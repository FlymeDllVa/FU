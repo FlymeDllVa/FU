{
 "cells": [
  {
   "cell_type": "code",
   "execution_count": 1,
   "metadata": {},
   "outputs": [],
   "source": [
    "l1 = ['1', '123', '123', '12', '1', '123']\n",
    "l2 = [2, 4, -2, -3, 0 , 11 , 3, -1]\n",
    "\n",
    "d4 = {1: 10, 2: 20, 3: 30, 4: 40, 5: 50, 6: 60}\n",
    "d5 = {'a': 3, 'b': 4, 'c': 5, 'd': 6, 'e': 7, 'f': 8, 'g': 9}\n",
    "d6 = {'e': 20, 'f': 21, 'g': 22, 'h': 23, 'i': 24, 'j': 25, 'k': 26, 'l': 27}"
   ]
  },
  {
   "cell_type": "markdown",
   "metadata": {},
   "source": [
    "1) Используя список l1, создать список, в котором каждый элемент списка l1 будет заменен значением длины строки соответствующего элемента в списке l1. Использовать генераторы, решить задачу в одну строку."
   ]
  },
  {
   "cell_type": "code",
   "execution_count": 2,
   "metadata": {},
   "outputs": [
    {
     "data": {
      "text/plain": [
       "[1, 3, 3, 2, 1, 3]"
      ]
     },
     "execution_count": 2,
     "metadata": {},
     "output_type": "execute_result"
    }
   ],
   "source": [
    "[len(i) for i in l1]"
   ]
  },
  {
   "cell_type": "markdown",
   "metadata": {},
   "source": [
    "2) Подсчитать количество строк в списке l1, длина которых больше 2х. Использовать генераторы, решить задачу в одну строку."
   ]
  },
  {
   "cell_type": "code",
   "execution_count": 3,
   "metadata": {},
   "outputs": [
    {
     "data": {
      "text/plain": [
       "3"
      ]
     },
     "execution_count": 3,
     "metadata": {},
     "output_type": "execute_result"
    }
   ],
   "source": [
    "len([i for i in l1 if len(i)>2])"
   ]
  },
  {
   "cell_type": "markdown",
   "metadata": {},
   "source": [
    "3) Создать список, в котором все числа списка l2 умножены на их номер в списке. Использовать генераторы, решить задачу в одну строку."
   ]
  },
  {
   "cell_type": "code",
   "execution_count": 4,
   "metadata": {},
   "outputs": [
    {
     "data": {
      "text/plain": [
       "[2, 8, -6, -12, 0, 66, 21, -8]"
      ]
     },
     "execution_count": 4,
     "metadata": {},
     "output_type": "execute_result"
    }
   ],
   "source": [
    "[i*e for i,e in enumerate(l2, 1)]"
   ]
  },
  {
   "cell_type": "markdown",
   "metadata": {},
   "source": [
    "4) Создать список, в котором все отрицательные числа списка l2 исключены, остальные элементы сохранены на своих местах. Использовать генераторы, решить задачу в одну строку."
   ]
  },
  {
   "cell_type": "code",
   "execution_count": 5,
   "metadata": {},
   "outputs": [
    {
     "data": {
      "text/plain": [
       "[2, 4, 0, 11, 3]"
      ]
     },
     "execution_count": 5,
     "metadata": {},
     "output_type": "execute_result"
    }
   ],
   "source": [
    "[i for i in l2 if i>=0]"
   ]
  },
  {
   "cell_type": "markdown",
   "metadata": {},
   "source": [
    "5) Создать список, в котором все отрицательные числа списка l2 заменены на их номер в списке, остальные элементы сохранены на своих местах. Использовать генераторы и тернарный оператор, решить задачу в одну строку."
   ]
  },
  {
   "cell_type": "code",
   "execution_count": 6,
   "metadata": {},
   "outputs": [
    {
     "data": {
      "text/plain": [
       "[2, 4, 3, 4, 0, 11, 3, 8]"
      ]
     },
     "execution_count": 6,
     "metadata": {},
     "output_type": "execute_result"
    }
   ],
   "source": [
    "[e if e>=0 else i for i, e in enumerate(l2, 1)]"
   ]
  },
  {
   "cell_type": "markdown",
   "metadata": {},
   "source": [
    "6) На основе переданной строки (не содержащей повторяющихся символов) создать словарь, в котором каждому символу строки будет соответствовать номер символа в строке. Использовать генераторы, решить задачу в одну строку. Пример: строка 'abcdef', словарь {'a': 1, 'b': 2, 'c': 3, 'd': 4}"
   ]
  },
  {
   "cell_type": "code",
   "execution_count": 7,
   "metadata": {},
   "outputs": [
    {
     "data": {
      "text/plain": [
       "{'a': 1, 'b': 2, 'c': 3, 'd': 4}"
      ]
     },
     "execution_count": 7,
     "metadata": {},
     "output_type": "execute_result"
    }
   ],
   "source": [
    "{e:i for i,e in enumerate('abcd', 1)}"
   ]
  },
  {
   "cell_type": "markdown",
   "metadata": {},
   "source": [
    "7) Определить, сколько элементов заданного списка содержится в словаре. Использовать генераторы, решить задачу в одну строку. Пример: определить сколько элементов списка l1 содержится в словаре d1. (ответ: 2)"
   ]
  },
  {
   "cell_type": "code",
   "execution_count": 9,
   "metadata": {
    "scrolled": true
   },
   "outputs": [],
   "source": [
    "l1=list('abcdef')\n",
    "d1=dict({'e': 1, 'f': 2, 'g': 3, 'h': 4, 'k': 5})"
   ]
  },
  {
   "cell_type": "code",
   "execution_count": 10,
   "metadata": {},
   "outputs": [
    {
     "data": {
      "text/plain": [
       "2"
      ]
     },
     "execution_count": 10,
     "metadata": {},
     "output_type": "execute_result"
    }
   ],
   "source": [
    "len([i for i in l1 if i in d1])"
   ]
  },
  {
   "cell_type": "markdown",
   "metadata": {},
   "source": [
    "8) Для строки evgene_o создать словарь, где для всех символов, встречающихся в строке, хранится число: сколько раз символ встретился в строке evgene_o. Использовать генераторы, решить задачу в одну строку."
   ]
  },
  {
   "cell_type": "code",
   "execution_count": 11,
   "metadata": {},
   "outputs": [],
   "source": [
    "evgene_o = \"\"\"My uncle -- high ideals inspire him;\n",
    "     but when past joking he fell sick,\n",
    "     he really forced one to admire him --\n",
    "     and never played a shrewder trick.\n",
    "     Let others learn from his example!\n",
    "     But God, how deadly dull to sample\n",
    "     sickroom attendance night and day\n",
    "     and never stir a foot away!\n",
    "     And the sly baseness, fit to throttle,\n",
    "     of entertaining the half-dead:\n",
    "     one smoothes the pillows down in bed,\n",
    "     and glumly serves the medicine bottle,\n",
    "     and sighs, and asks oneself all through:\n",
    "     When will the devil come for you?\"\"\""
   ]
  },
  {
   "cell_type": "code",
   "execution_count": 13,
   "metadata": {},
   "outputs": [],
   "source": [
    "dd = {i: evgene_o.count(i) for i in evgene_o}"
   ]
  },
  {
   "cell_type": "markdown",
   "metadata": {},
   "source": [
    "9) Используя словарь, полученный в предыдущей задаче, подсчитать количество строчных букв в строке evgene_o. Использовать генераторы, решить задачу в одну строку."
   ]
  },
  {
   "cell_type": "code",
   "execution_count": 15,
   "metadata": {},
   "outputs": [
    {
     "data": {
      "text/plain": [
       "384"
      ]
     },
     "execution_count": 15,
     "metadata": {},
     "output_type": "execute_result"
    }
   ],
   "source": [
    "sum([v for k, v in dd.items() if 'a'<= k <= 'z'])"
   ]
  },
  {
   "cell_type": "markdown",
   "metadata": {},
   "source": [
    "10) Просуммировать произведения ключей словаря d4 на соответствующие им значения. Использовать генераторы, решить задачу в одну строку."
   ]
  },
  {
   "cell_type": "code",
   "execution_count": 16,
   "metadata": {},
   "outputs": [
    {
     "data": {
      "text/plain": [
       "910"
      ]
     },
     "execution_count": 16,
     "metadata": {},
     "output_type": "execute_result"
    }
   ],
   "source": [
    "sum([k*v for k,v in d4.items()])"
   ]
  },
  {
   "cell_type": "markdown",
   "metadata": {},
   "source": [
    "11) На базе словаря d6 создать словарь d7, в котором нет пар ключ-значение с ключами, встречающимися в словаре d5. Использовать генераторы, решить задачу в одну строку."
   ]
  },
  {
   "cell_type": "code",
   "execution_count": 19,
   "metadata": {},
   "outputs": [],
   "source": [
    "d7 = {k:v for k, v in d6.items() if k not in d5}"
   ]
  },
  {
   "cell_type": "markdown",
   "metadata": {},
   "source": [
    "12)* Создать словарь d8, в котором есть все пары ключ-значения из d5, а для ключей, которые есть в d6, но отсутствуют в d5, добавить соответствующие пары ключ-значения в d8. Использовать генераторы, решить задачу в одну строку."
   ]
  },
  {
   "cell_type": "code",
   "execution_count": null,
   "metadata": {},
   "outputs": [],
   "source": [
    "{k:v for k, v in d5}"
   ]
  },
  {
   "cell_type": "markdown",
   "metadata": {},
   "source": [
    "13) В словаре, полученном в задаче со стихотворением, удалить все пары ключ-значение для символов, встречающихся менее 5 раз. Использовать генераторы, решить задачу в одну строку."
   ]
  },
  {
   "cell_type": "code",
   "execution_count": 18,
   "metadata": {},
   "outputs": [
    {
     "data": {
      "text/plain": [
       "{'y': 9,\n",
       " ' ': 141,\n",
       " 'u': 7,\n",
       " 'n': 28,\n",
       " 'c': 8,\n",
       " 'l': 27,\n",
       " 'e': 51,\n",
       " '-': 5,\n",
       " 'h': 24,\n",
       " 'i': 24,\n",
       " 'g': 7,\n",
       " 'd': 24,\n",
       " 'a': 28,\n",
       " 's': 24,\n",
       " 'p': 6,\n",
       " 'r': 19,\n",
       " 'm': 11,\n",
       " '\\n': 13,\n",
       " 't': 29,\n",
       " 'w': 7,\n",
       " 'o': 27,\n",
       " 'k': 5,\n",
       " 'f': 9,\n",
       " ',': 7}"
      ]
     },
     "execution_count": 18,
     "metadata": {},
     "output_type": "execute_result"
    }
   ],
   "source": [
    "{k:v for k, v in dd.items() if v>=5}"
   ]
  },
  {
   "cell_type": "code",
   "execution_count": null,
   "metadata": {},
   "outputs": [],
   "source": []
  }
 ],
 "metadata": {
  "kernelspec": {
   "display_name": "Python 3",
   "language": "python",
   "name": "python3"
  },
  "language_info": {
   "codemirror_mode": {
    "name": "ipython",
    "version": 3
   },
   "file_extension": ".py",
   "mimetype": "text/x-python",
   "name": "python",
   "nbconvert_exporter": "python",
   "pygments_lexer": "ipython3",
   "version": "3.6.5"
  }
 },
 "nbformat": 4,
 "nbformat_minor": 2
}
