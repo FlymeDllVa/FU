{
 "cells": [
  {
   "cell_type": "markdown",
   "metadata": {},
   "source": [
    "1) На основе переданной строки (не содержащей повторяющихся символов) создать словарь, в котром каждому символу строки будет соответствовать номер символа в строке. Пример: строка 'abcdef'"
   ]
  },
  {
   "cell_type": "code",
   "execution_count": 2,
   "metadata": {},
   "outputs": [
    {
     "data": {
      "text/plain": [
       "{'a': 1, 'b': 2, 'c': 3, 'd': 4, 'e': 5, 'f': 6}"
      ]
     },
     "execution_count": 2,
     "metadata": {},
     "output_type": "execute_result"
    }
   ],
   "source": [
    "dicti = {}\n",
    "for i, e in enumerate('abcdef', 1):\n",
    "    dicti[e] = i\n",
    "dicti"
   ]
  },
  {
   "cell_type": "code",
   "execution_count": 3,
   "metadata": {},
   "outputs": [
    {
     "data": {
      "text/plain": [
       "{'a': 1, 'b': 2, 'c': 3, 'd': 4, 'e': 5, 'f': 6}"
      ]
     },
     "execution_count": 3,
     "metadata": {},
     "output_type": "execute_result"
    }
   ],
   "source": [
    "{e:i for i, e in enumerate('abcdef', 1)}"
   ]
  },
  {
   "cell_type": "markdown",
   "metadata": {},
   "source": [
    "2) Определить сколько элементов заданного списка содержится в словаре. Пример: определить сколько элементов списка l1 содержится в словаре d1 (ответ: 2)"
   ]
  },
  {
   "cell_type": "code",
   "execution_count": 4,
   "metadata": {},
   "outputs": [
    {
     "data": {
      "text/plain": [
       "['a', 'b', 'c', 'd']"
      ]
     },
     "execution_count": 4,
     "metadata": {},
     "output_type": "execute_result"
    }
   ],
   "source": [
    "l1 = list('abcd')\n",
    "l1"
   ]
  },
  {
   "cell_type": "code",
   "execution_count": 5,
   "metadata": {
    "scrolled": true
   },
   "outputs": [
    {
     "data": {
      "text/plain": [
       "{'c': 5, 'd': 6, 'e': 7, 'f': 8, 'g': 9, 'h': 10}"
      ]
     },
     "execution_count": 5,
     "metadata": {},
     "output_type": "execute_result"
    }
   ],
   "source": [
    "d1 = {'c': 5, 'd': 6, 'e': 7, 'f': 8, 'g': 9, 'h': 10}\n",
    "d1"
   ]
  },
  {
   "cell_type": "code",
   "execution_count": 6,
   "metadata": {},
   "outputs": [
    {
     "data": {
      "text/plain": [
       "2"
      ]
     },
     "execution_count": 6,
     "metadata": {},
     "output_type": "execute_result"
    }
   ],
   "source": [
    "counter = 0\n",
    "for i in d1:\n",
    "    counter = counter + 1 if i in l1 else counter\n",
    "counter"
   ]
  },
  {
   "cell_type": "code",
   "execution_count": 7,
   "metadata": {},
   "outputs": [
    {
     "data": {
      "text/plain": [
       "2"
      ]
     },
     "execution_count": 7,
     "metadata": {},
     "output_type": "execute_result"
    }
   ],
   "source": [
    "counter = 0\n",
    "for i in d1:\n",
    "    if i in l1:\n",
    "        counter += 1\n",
    "counter"
   ]
  },
  {
   "cell_type": "code",
   "execution_count": 8,
   "metadata": {},
   "outputs": [
    {
     "data": {
      "text/plain": [
       "2"
      ]
     },
     "execution_count": 8,
     "metadata": {},
     "output_type": "execute_result"
    }
   ],
   "source": [
    "counter = sum([1 for i in d1 if i in l1])\n",
    "counter"
   ]
  },
  {
   "cell_type": "code",
   "execution_count": 9,
   "metadata": {},
   "outputs": [
    {
     "data": {
      "text/plain": [
       "2"
      ]
     },
     "execution_count": 9,
     "metadata": {},
     "output_type": "execute_result"
    }
   ],
   "source": [
    "counter = len([i for i in d1 if i in l1])\n",
    "counter"
   ]
  },
  {
   "cell_type": "markdown",
   "metadata": {},
   "source": [
    "3) Для строки evgene_o создать словарь где для всех символов, встречающихся в строке хранится число: сколько раз символ встретился в строке evgene_o. "
   ]
  },
  {
   "cell_type": "code",
   "execution_count": 2,
   "metadata": {},
   "outputs": [],
   "source": [
    "evgene_o = \"\"\"My uncle -- high ideals inspire him;\n",
    "     but when past joking he fell sick,\n",
    "     he really forced one to admire him --\n",
    "     and never played a shrewder trick.\n",
    "     Let others learn from his example!\n",
    "     But God, how deadly dull to sample\n",
    "     sickroom attendance night and day\n",
    "     and never stir a foot away!\n",
    "     And the sly baseness, fit to throttle,\n",
    "     of entertaining the half-dead:\n",
    "     one smoothes the pillows down in bed,\n",
    "     and glumly serves the medicine bottle,\n",
    "     and sighs, and asks oneself all through:\n",
    "     When will the devil come for you?\n",
    "     \n",
    "     Such were a young rake's meditations --\n",
    "     by will of Zeus, the high and just,\n",
    "     the legatee of his relations --\n",
    "     as horses whirled him through the dust.\n",
    "     Friends of my Ruslan and Lyudmila,\n",
    "     without preliminary feeler\n",
    "     let me acquaint you on the nail\n",
    "     with this the hero of my tale:\n",
    "     Onegin, my good friend, was littered\n",
    "     and bred upon the Neva's brink,\n",
    "     where you were born as well, I think,\n",
    "     reader, or where you've shone and glittered!\n",
    "     There once I too strolled back and forth:\n",
    "     but I'm allergic to the North...\"\"\""
   ]
  },
  {
   "cell_type": "code",
   "execution_count": 3,
   "metadata": {},
   "outputs": [],
   "source": [
    "dict_evgen = {}\n",
    "for i in evgene_o:\n",
    "    dict_evgen.update({i: dict_evgen.get(i, 0)+1})"
   ]
  },
  {
   "cell_type": "markdown",
   "metadata": {},
   "source": [
    "4) Используя словарь, полученный в задаче 3 подсчитать количество строчных букв в строке evgene_o. "
   ]
  },
  {
   "cell_type": "code",
   "execution_count": 4,
   "metadata": {},
   "outputs": [
    {
     "data": {
      "text/plain": [
       "25"
      ]
     },
     "execution_count": 4,
     "metadata": {},
     "output_type": "execute_result"
    }
   ],
   "source": [
    "counter = 0\n",
    "for k in dict_evgen.keys():\n",
    "    if 'a'<=k<='z':\n",
    "        counter += 1\n",
    "counter"
   ]
  },
  {
   "cell_type": "code",
   "execution_count": 5,
   "metadata": {},
   "outputs": [
    {
     "data": {
      "text/plain": [
       "756"
      ]
     },
     "execution_count": 5,
     "metadata": {},
     "output_type": "execute_result"
    }
   ],
   "source": [
    "counter = 0\n",
    "for k, v in dict_evgen.items():\n",
    "    counter = counter + v if 'a'<=k<='z' else counter\n",
    "counter"
   ]
  },
  {
   "cell_type": "code",
   "execution_count": 22,
   "metadata": {},
   "outputs": [
    {
     "data": {
      "text/plain": [
       "25"
      ]
     },
     "execution_count": 22,
     "metadata": {},
     "output_type": "execute_result"
    }
   ],
   "source": [
    "len([k for k in dict_evgen.keys() if 'a'<=k<='z'])"
   ]
  },
  {
   "cell_type": "markdown",
   "metadata": {},
   "source": [
    "5) Написать код, который создает новый словарь с именем dic4, содержащий все пары ключ-значение из словарей dic1, dic2, dic3."
   ]
  },
  {
   "cell_type": "code",
   "execution_count": 23,
   "metadata": {},
   "outputs": [],
   "source": [
    "dic1={1:10, 2:20}  \n",
    "dic2={3:30, 4:40}  \n",
    "dic3={5:50,6:60} "
   ]
  },
  {
   "cell_type": "code",
   "execution_count": 24,
   "metadata": {},
   "outputs": [
    {
     "data": {
      "text/plain": [
       "{1: 10, 2: 20, 3: 30, 4: 40, 5: 50, 6: 60}"
      ]
     },
     "execution_count": 24,
     "metadata": {},
     "output_type": "execute_result"
    }
   ],
   "source": [
    "dic4 = {}\n",
    "dic4.update(dic1)\n",
    "dic4.update(dic2)\n",
    "dic4.update(dic3)\n",
    "dic4"
   ]
  },
  {
   "cell_type": "markdown",
   "metadata": {},
   "source": [
    "6) Просуммировать все значения из словаря dic4"
   ]
  },
  {
   "cell_type": "code",
   "execution_count": 25,
   "metadata": {},
   "outputs": [
    {
     "data": {
      "text/plain": [
       "210"
      ]
     },
     "execution_count": 25,
     "metadata": {},
     "output_type": "execute_result"
    }
   ],
   "source": [
    "sum(dic4.values())"
   ]
  },
  {
   "cell_type": "markdown",
   "metadata": {},
   "source": [
    "7) Перемножить все значения из словаря dic4"
   ]
  },
  {
   "cell_type": "code",
   "execution_count": 26,
   "metadata": {},
   "outputs": [
    {
     "data": {
      "text/plain": [
       "720000000"
      ]
     },
     "execution_count": 26,
     "metadata": {},
     "output_type": "execute_result"
    }
   ],
   "source": [
    "multiply = 1\n",
    "for v in dic4.values():\n",
    "    multiply *= v\n",
    "multiply"
   ]
  },
  {
   "cell_type": "markdown",
   "metadata": {},
   "source": [
    "8) Просуммировать произведения ключей на словаря dic4 на соответствующие им значения"
   ]
  },
  {
   "cell_type": "code",
   "execution_count": 27,
   "metadata": {},
   "outputs": [
    {
     "data": {
      "text/plain": [
       "910"
      ]
     },
     "execution_count": 27,
     "metadata": {},
     "output_type": "execute_result"
    }
   ],
   "source": [
    "sum([k*v for k,v in dic4.items()])"
   ]
  },
  {
   "cell_type": "markdown",
   "metadata": {},
   "source": [
    "9) На базе словаря dic6 создать словарь dic7 в котором нет пар ключ-значение с ключами, встречающимися в словаре dic5"
   ]
  },
  {
   "cell_type": "code",
   "execution_count": 28,
   "metadata": {},
   "outputs": [],
   "source": [
    "dic5 = {'a': 3, 'b': 4, 'c': 5, 'd': 6, 'e': 7, 'f': 8, 'g': 9}\n",
    "dic6 = {'e': 20, 'f': 21, 'g': 22, 'h': 23, 'i': 24, 'j': 25, 'k': 26, 'l': 27}"
   ]
  },
  {
   "cell_type": "code",
   "execution_count": 30,
   "metadata": {},
   "outputs": [
    {
     "data": {
      "text/plain": [
       "{'h': 23, 'i': 24, 'j': 25, 'k': 26, 'l': 27}"
      ]
     },
     "execution_count": 30,
     "metadata": {},
     "output_type": "execute_result"
    }
   ],
   "source": [
    "dic7 = {}\n",
    "for k,v in dic6.items():\n",
    "    if k not in dic5:\n",
    "        dic7.update({k:v})\n",
    "dic7"
   ]
  },
  {
   "cell_type": "markdown",
   "metadata": {},
   "source": [
    "10) Создать словарь dic8 в котором есть все пары ключ-значения из dic5, а для ключей, которые есть в dic6, но отсутствуют в dic5 добавить соответствующие пары ключ-значения в dic8."
   ]
  },
  {
   "cell_type": "code",
   "execution_count": 33,
   "metadata": {},
   "outputs": [],
   "source": [
    "dic8 = dic5.copy()\n",
    "for k,v in dic6.items():\n",
    "    if k not in dic5:\n",
    "        dic8.update({k:v})"
   ]
  },
  {
   "cell_type": "markdown",
   "metadata": {},
   "source": [
    "11) Из списка ri1 получить упорядоченный по возрастанию список не имеющий повторяющихся значений."
   ]
  },
  {
   "cell_type": "code",
   "execution_count": 34,
   "metadata": {},
   "outputs": [
    {
     "name": "stdout",
     "output_type": "stream",
     "text": [
      "[13, 8, 6, 10, 8, 12, 1, 6, 7, 4, 14, 13, 1, 6, 14, 12, 1, 12, 7, 5, 4, 15, 6, 5, 5, 10, 10, 5, 8, 4]\n"
     ]
    }
   ],
   "source": [
    "import random\n",
    "ri1 = [random.randint(1, 15) for _ in range(30)]\n",
    "print(ri1)"
   ]
  },
  {
   "cell_type": "code",
   "execution_count": 36,
   "metadata": {},
   "outputs": [],
   "source": [
    "dicti = {}\n",
    "for k in ri1:\n",
    "    dicti[k] = k\n",
    "lst = []\n",
    "for i in dicti:\n",
    "    lst.append(i)\n",
    "lst.sort()\n",
    "lst"
   ]
  },
  {
   "cell_type": "code",
   "execution_count": 39,
   "metadata": {},
   "outputs": [
    {
     "data": {
      "text/plain": [
       "[1, 4, 5, 6, 7, 8, 10, 12, 13, 14, 15]"
      ]
     },
     "execution_count": 39,
     "metadata": {},
     "output_type": "execute_result"
    }
   ],
   "source": [
    "lst = sorted([i for i in {k:k for k in ri1}])\n",
    "lst"
   ]
  },
  {
   "cell_type": "markdown",
   "metadata": {},
   "source": [
    "12) Используя распаковку из списка списков сделать список, содержащий последовательность первых и последних значений вложенных списков и сохраняющий порядок их следования.\n",
    "\n",
    "Пример: [[1, 2, 3], [4, 5, 6, 7], [9, 2]] -> [1, 3, 4, 7, 9, 2]"
   ]
  },
  {
   "cell_type": "code",
   "execution_count": 41,
   "metadata": {},
   "outputs": [
    {
     "data": {
      "text/plain": [
       "[1, 3, 4, 7, 9, 2]"
      ]
     },
     "execution_count": 41,
     "metadata": {},
     "output_type": "execute_result"
    }
   ],
   "source": [
    "lst = [[1, 2, 3], [4, 5, 6, 7], [9, 2]]\n",
    "lst2 = []\n",
    "for i in lst:\n",
    "    lst2.append(i[0])\n",
    "    lst2.append(i[-1])\n",
    "lst2"
   ]
  },
  {
   "cell_type": "markdown",
   "metadata": {},
   "source": [
    "13)  В словаре, полученном в задаче 3 удалить все пары ключ/значение для символов, встречающихся менее 5 раз."
   ]
  },
  {
   "cell_type": "code",
   "execution_count": 43,
   "metadata": {},
   "outputs": [],
   "source": [
    "dicti = {}\n",
    "for k, v in dict_evgen.items():\n",
    "    if v < 5:\n",
    "        dicti[k] = v"
   ]
  },
  {
   "cell_type": "code",
   "execution_count": 44,
   "metadata": {},
   "outputs": [
    {
     "name": "stdout",
     "output_type": "stream",
     "text": [
      "{'M': 1, ';': 1, 'j': 2, 'L': 2, 'x': 1, '!': 3, 'B': 1, 'G': 1, 'A': 1, ':': 4, 'W': 1, '?': 1, 'S': 1, \"'\": 4, 'Z': 1, 'F': 1, 'R': 1, 'q': 1, 'O': 1, 'N': 2, 'I': 3, 'T': 1}\n"
     ]
    }
   ],
   "source": [
    "dicti_gen = {k:v for k,v in dict_evgen.items() if v<5}\n",
    "print(dicti_gen)"
   ]
  },
  {
   "cell_type": "markdown",
   "metadata": {},
   "source": [
    "14) Составить программу \"мешок\". Программа раз за разом запрашивает у пользователя новые значения и \"кладет их в мешок\". Если полученное значение уже есть в мешке, то оно не помещается в мешок, а пользователю сообщается о том, что такое значение уже есть в мешке. Максимальное количество значений в мешке - 5 штук. Если помещение в мешок очередного значения приводит к превышению допустимого количества значений, то из него извлекается одно из хранившихся в нем ранее значений и предъявляется пользователю. Для того чтобы выйти из программы пользователь вводит пустое значение. При выходе из программы пользователю демонстрируется содержимое мешка.\n",
    "\n",
    "\\*) Дополнительная опция: пользователь может вводить сразу несколько значений, разделенных запятой."
   ]
  },
  {
   "cell_type": "code",
   "execution_count": 46,
   "metadata": {},
   "outputs": [
    {
     "name": "stdout",
     "output_type": "stream",
     "text": [
      "d\n",
      "Добавленное значение: d\n",
      "s\n",
      "Добавленное значение: s\n",
      "a\n",
      "Добавленное значение: a\n",
      "q\n",
      "Добавленное значение: q\n",
      "d\n",
      "Такое значение уже еть в мешке\n",
      "e\n",
      "Добавленное значение: e\n",
      "r\n",
      "Удаленное значение: d\n",
      "Добавленное значение: r\n",
      "r\n",
      "Такое значение уже еть в мешке\n",
      "\n",
      "['s', 'a', 'q', 'e', 'r']\n"
     ]
    }
   ],
   "source": [
    "bag = []\n",
    "while True:\n",
    "    inp_val = input()\n",
    "    if inp_val=='':\n",
    "        print(bag)\n",
    "        break\n",
    "    elif inp_val in bag:\n",
    "        print(\"Такое значение уже еть в мешке\")\n",
    "        continue\n",
    "    else:\n",
    "        if len(bag)==5:\n",
    "            print(f'Удаленное значение: {bag.pop(0)}')\n",
    "            bag.append(inp_val)\n",
    "            print(f'Добавленное значение: {bag[-1]}')\n",
    "        else:\n",
    "            bag.append(inp_val)\n",
    "            print(f'Добавленное значение: {bag[-1]}')"
   ]
  },
  {
   "cell_type": "code",
   "execution_count": 2,
   "metadata": {},
   "outputs": [
    {
     "name": "stdout",
     "output_type": "stream",
     "text": [
      "a,b,s,c,f,s,e,q,e,s,d,f,g\n",
      "Добавленное значение: a\n",
      "Добавленное значение: b\n",
      "Добавленное значение: s\n",
      "Добавленное значение: c\n",
      "Добавленное значение: f\n",
      "Такое значение уже еть в мешке\n",
      "Удаленное значение: a\n",
      "Добавленное значение: e\n",
      "Удаленное значение: b\n",
      "Добавленное значение: q\n",
      "Такое значение уже еть в мешке\n",
      "Такое значение уже еть в мешке\n",
      "Удаленное значение: s\n",
      "Добавленное значение: d\n",
      "Такое значение уже еть в мешке\n",
      "Удаленное значение: c\n",
      "Добавленное значение: g\n",
      "\n",
      "['f', 'e', 'q', 'd', 'g']\n"
     ]
    }
   ],
   "source": [
    "bag = []\n",
    "while True:\n",
    "    inp_vals = input()\n",
    "    if inp_vals=='':\n",
    "        print(bag)\n",
    "        break\n",
    "    else:\n",
    "        inp_vals = inp_vals.split(',')\n",
    "        for inp_val in inp_vals:\n",
    "            if inp_val in bag:\n",
    "                print(\"Такое значение уже еть в мешке\")\n",
    "                continue\n",
    "            else:\n",
    "                if len(bag)==5:\n",
    "                    print(f'Удаленное значение: {bag.pop(0)}')\n",
    "                    bag.append(inp_val)\n",
    "                    print(f'Добавленное значение: {bag[-1]}')\n",
    "                else:\n",
    "                    bag.append(inp_val)\n",
    "                    print(f'Добавленное значение: {bag[-1]}')"
   ]
  },
  {
   "cell_type": "code",
   "execution_count": null,
   "metadata": {},
   "outputs": [],
   "source": []
  }
 ],
 "metadata": {
  "kernelspec": {
   "display_name": "Python 3",
   "language": "python",
   "name": "python3"
  },
  "language_info": {
   "codemirror_mode": {
    "name": "ipython",
    "version": 3
   },
   "file_extension": ".py",
   "mimetype": "text/x-python",
   "name": "python",
   "nbconvert_exporter": "python",
   "pygments_lexer": "ipython3",
   "version": "3.6.5"
  }
 },
 "nbformat": 4,
 "nbformat_minor": 2
}
