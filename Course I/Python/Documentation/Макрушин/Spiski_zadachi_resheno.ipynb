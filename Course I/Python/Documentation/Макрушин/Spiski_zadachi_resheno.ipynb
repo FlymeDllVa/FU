{
 "cells": [
  {
   "cell_type": "markdown",
   "metadata": {},
   "source": [
    "# Задачи по спискам"
   ]
  },
  {
   "cell_type": "markdown",
   "metadata": {},
   "source": [
    "1) Создать список из чисел 31, 24, 17 тремя способами: перечисление, на основе другого списка (по сути, создать копию списка), с помощью функции range. Вывести списки на печать. Создать и вывести список, состоящий из полученных списков."
   ]
  },
  {
   "cell_type": "code",
   "execution_count": null,
   "metadata": {},
   "outputs": [],
   "source": [
    "lst1 = [31,24,17]\n",
    "lst2 = list(lst1)\n",
    "lst3 = list(range(31,16,-7))\n",
    "lst1, lst2, lst3"
   ]
  },
  {
   "cell_type": "markdown",
   "metadata": {},
   "source": [
    "2.1) Создать список из всех симоволов имеющихся во введенной пользователем строке."
   ]
  },
  {
   "cell_type": "code",
   "execution_count": null,
   "metadata": {},
   "outputs": [],
   "source": [
    "lst = list(input())\n",
    "lst"
   ]
  },
  {
   "cell_type": "markdown",
   "metadata": {},
   "source": [
    "2.2) Создать список из всех слов имеющихся во введенной пользователем строке."
   ]
  },
  {
   "cell_type": "code",
   "execution_count": null,
   "metadata": {},
   "outputs": [],
   "source": [
    "lst = input().split()\n",
    "lst"
   ]
  },
  {
   "cell_type": "markdown",
   "metadata": {},
   "source": [
    "2.3) Создать и вывести список из всех цифр, встречающихся в заданной строке."
   ]
  },
  {
   "cell_type": "code",
   "execution_count": null,
   "metadata": {},
   "outputs": [],
   "source": [
    "input_string = input()\n",
    "lst = []\n",
    "for i in input_string:\n",
    "    if i.isdigit():\n",
    "        lst.append(int(i))\n",
    "lst"
   ]
  },
  {
   "cell_type": "code",
   "execution_count": null,
   "metadata": {},
   "outputs": [],
   "source": [
    "#Второй вариант решения\n",
    "[int(i) for i in input() if i.isdigit()]"
   ]
  },
  {
   "cell_type": "markdown",
   "metadata": {},
   "source": [
    "3) Если в заданный список входит слово \"repeat\", а последний элемент - число, то заменить список на столько же копий всех элементов, не считая последних двух (последние два просто добавить). Например, список ['input', 'string', 'repeat', 3] должен быть заменен на ['input', 'string', 'input', 'string', 'input', 'string', 'repeat', 3]."
   ]
  },
  {
   "cell_type": "code",
   "execution_count": null,
   "metadata": {},
   "outputs": [],
   "source": [
    "lst = ['input', 'string', 'repeat', 3] \n",
    "if 'repeat' in lst and type(lst[-1]) is int:\n",
    "    lst = lst[:-2]*lst[-1]+lst[-2:]\n",
    "lst"
   ]
  },
  {
   "cell_type": "markdown",
   "metadata": {},
   "source": [
    "4) Создать список из двух произвольных строк s1 и s2, их длин и результата проверки соблюдения лексикографического порядка (идет ли первая строка раньше второй). В зависимости от параметра output путем обращения к элементам списка выводить либо длины строк (output='lengths', в формате \"Длины строк: 4 и 5\"), либо описание порядка (output='order', в формате \"Строка 'первая' идет ПОСЛЕ строки 'вторая'\")."
   ]
  },
  {
   "cell_type": "code",
   "execution_count": null,
   "metadata": {},
   "outputs": [],
   "source": [
    "def task4(s1,s2, output='lengths'):\n",
    "    lst = [s1,s2,len(s1), len(s2), s1>s2]\n",
    "    if output=='lengths':\n",
    "        return f'Длина строк: {lst[2]} и {lst[3]}'\n",
    "    elif output=='order':\n",
    "        ret_var = \"ПОСЛЕ\" if lst[-1] else ['ДО']\n",
    "        return f\"Строка '{s1}' идет {ret_var} строки '{s2}'\""
   ]
  },
  {
   "cell_type": "code",
   "execution_count": null,
   "metadata": {},
   "outputs": [],
   "source": [
    "task4('первая', 'вторая', output='order')"
   ]
  },
  {
   "cell_type": "markdown",
   "metadata": {},
   "source": [
    "5.1) Запросить у пользователя 2 целых положительных числа и сохранить их в переменных max_val, repeat. Создать  список из целых чисел со  значениями от 1 до max_val включительно повторяющийся repeat раз.\n",
    "\n",
    "Например для max_val=4, repeat=4 будет создан список:\n",
    "\n",
    "[1, 2, 3, 4, 1, 2, 3, 4, 1, 2, 3, 4,]"
   ]
  },
  {
   "cell_type": "code",
   "execution_count": null,
   "metadata": {},
   "outputs": [],
   "source": [
    "def create_list(max_val, repeat):\n",
    "    return list(range(1, max_val+1))*repeat\n",
    "create_list(4,4)"
   ]
  },
  {
   "cell_type": "markdown",
   "metadata": {},
   "source": [
    "5.2) На основе списка из 5.1 созданного при max_val = 10 создать его копию (значение repeat заранее неизвестно). В копии с помощью среза удалить 80% элементов из середины. Все элементы исходного списка, которые не сохранены в скопированном списке, умножить на десять."
   ]
  },
  {
   "cell_type": "code",
   "execution_count": null,
   "metadata": {},
   "outputs": [],
   "source": [
    "lst = create_list(10, 4)\n",
    "copy_lst = list(lst)\n",
    "start = int(len(lst) * 0.1)\n",
    "end = int(len(lst) * 0.9)\n",
    "copy_lst[start:end] = []\n",
    "lst[start:end] = [i*10 for i in lst[start:end]]\n",
    "print(copy_lst, lst, sep='\\n')"
   ]
  },
  {
   "cell_type": "markdown",
   "metadata": {},
   "source": [
    "6) Из произвольной строки создать список. Вместо каждой буквы \"s\" (без учета регистра), стоящей не на первом и не на последнем месте, вставить в список строку из двойного предыдущего символа и одного следующего. Например, из строки \"test\\_Stringss\" должен получиться список ['t', 'e', 'eet', 't', '\\_', '\\__t', 't', 'r', 'i', 'n', 'g', 'ggs', 's']."
   ]
  },
  {
   "cell_type": "code",
   "execution_count": null,
   "metadata": {},
   "outputs": [],
   "source": [
    "lst = []\n",
    "string = \"test_Stringss\"\n",
    "lst.append(string[0])\n",
    "for i,e in enumerate(string[1:-1], 1):\n",
    "    if e.lower() == 's':\n",
    "        lst.append(string[i-1]*2+string[i+1])\n",
    "    else:\n",
    "        lst.append(e)\n",
    "lst.append(string[-1])\n",
    "lst"
   ]
  },
  {
   "cell_type": "markdown",
   "metadata": {},
   "source": [
    "7)* Организовать заполнение списка заданной длины пользователем через input(). Если на вход подается число (целое или через точку), то записывать в список целое число с округлением вверх. Если \"True\" или \"False\", то как boolean. Иначе - как строку."
   ]
  },
  {
   "cell_type": "code",
   "execution_count": null,
   "metadata": {},
   "outputs": [],
   "source": [
    "#Первый вариант\n",
    "#Треш, угар и содомия\n",
    "len_lst = int(input())\n",
    "lst = []\n",
    "for _ in range(len_lst):\n",
    "    inp_val = input(\"Введите значение\")\n",
    "    lst_inp_val = inp_val.split('.')\n",
    "    if len(lst_inp_val)==2:\n",
    "        condition = True\n",
    "        for i in lst_inp_val:\n",
    "            for j in i:\n",
    "                if not j.isdigit():\n",
    "                    condition = False\n",
    "                    break\n",
    "            if not condition:\n",
    "                lst.append(inp_val)\n",
    "                break\n",
    "        else:\n",
    "            inp_val = float(inp_val)\n",
    "            if inp_val - int(inp_val) == 0:\n",
    "                lst.append(int(inp_val))\n",
    "            else:\n",
    "                lst.append(int(inp_val)+1)\n",
    "    else:\n",
    "        for i in inp_val:\n",
    "            if not i.isdigit():\n",
    "                break\n",
    "        else:\n",
    "            lst.append(int(inp_val))\n",
    "            continue\n",
    "        if inp_val == \"True\":\n",
    "            lst.append(True)\n",
    "        elif inp_val == \"False\":\n",
    "            lst.append(False)\n",
    "        else:\n",
    "            lst.append(inp_val)\n",
    "print(lst)"
   ]
  },
  {
   "cell_type": "code",
   "execution_count": null,
   "metadata": {},
   "outputs": [],
   "source": [
    "#Второй вариант решения\n",
    "len_lst = int(input())\n",
    "lst = []\n",
    "for _ in range(len_lst):\n",
    "    inp_val = input(\"Введите значение: \")\n",
    "    try:\n",
    "        inp_val = float(inp_val)\n",
    "        if inp_val - int(inp_val) == 0:\n",
    "            lst.append(int(inp_val))\n",
    "        else:\n",
    "            lst.append(int(inp_val)+1)\n",
    "    except ValueError:\n",
    "        if inp_val == \"True\":\n",
    "            lst.append(True)\n",
    "        elif inp_val == \"False\":\n",
    "            lst.append(False)\n",
    "        else:\n",
    "            lst.append(inp_val)\n",
    "print(lst)"
   ]
  },
  {
   "cell_type": "code",
   "execution_count": null,
   "metadata": {},
   "outputs": [],
   "source": [
    "#Третий вариант решения\n",
    "import math\n",
    "len_lst = int(input())\n",
    "lst = []\n",
    "for _ in range(len_lst):\n",
    "    inp_val = input(\"Введите значение: \")\n",
    "    try:\n",
    "        inp_val = float(inp_val)\n",
    "        lst.append(math.ceil(inp_val))\n",
    "    except ValueError:\n",
    "        if inp_val == \"True\":\n",
    "            lst.append(True)\n",
    "        elif inp_val == \"False\":\n",
    "            lst.append(False)\n",
    "        else:\n",
    "            lst.append(inp_val)\n",
    "print(lst)"
   ]
  },
  {
   "cell_type": "markdown",
   "metadata": {},
   "source": [
    "--------------"
   ]
  },
  {
   "cell_type": "markdown",
   "metadata": {},
   "source": [
    "8) Заданы две заранее неизвестные строки в которых слова разделены пробелами. Из двух строк составить одну, в котрой слова из первой и второй строки будут чередоваться при этом порядок слов будет сохранен. Ели количество слов в строках различное, то закончить создание составной строки как только слова в одной из исходных строк закончатся. Для преобразований использовать списки слов.\n",
    "\n",
    "Пример: 'один два три', 'альфа бетта гамма' -> 'один альфа два бетта три гамма'"
   ]
  },
  {
   "cell_type": "code",
   "execution_count": 9,
   "metadata": {},
   "outputs": [
    {
     "data": {
      "text/plain": [
       "'один альфа два бетта три гамма'"
      ]
     },
     "execution_count": 9,
     "metadata": {},
     "output_type": "execute_result"
    }
   ],
   "source": [
    "string = 'один два три'\n",
    "string2 = 'альфа бетта гамма'\n",
    "string = string.split()\n",
    "string2 = string2.split()\n",
    "lst = []\n",
    "for i in range(len(string)):\n",
    "    lst.append(string[i])\n",
    "    lst.append(string2[i])\n",
    "lst = ' '.join(lst)\n",
    "lst"
   ]
  },
  {
   "cell_type": "markdown",
   "metadata": {},
   "source": [
    "9) Решить здачу 8 используя функцию zip."
   ]
  },
  {
   "cell_type": "code",
   "execution_count": 13,
   "metadata": {},
   "outputs": [
    {
     "data": {
      "text/plain": [
       "'один альфа два бетта три гамма'"
      ]
     },
     "execution_count": 13,
     "metadata": {},
     "output_type": "execute_result"
    }
   ],
   "source": [
    "' '. join([j for i in list(zip(string, string2)) for j in i])"
   ]
  },
  {
   "cell_type": "markdown",
   "metadata": {},
   "source": [
    "10) Выполнить циклический сдвиг слов в произвольной строке (слова разделены пробелами) на заднное пользователем число слов. Решить с помощью списков слов.\n",
    "\n",
    "Пример \"один два три четыре пять шесть семь\", 3 -> \"четыре пять шесть семь один два три\""
   ]
  },
  {
   "cell_type": "code",
   "execution_count": null,
   "metadata": {},
   "outputs": [],
   "source": [
    "def cyclic_shift(string, num):\n",
    "    string = string.split()\n",
    "    return \" \".join(string[num:]+string[:num])\n",
    "cyclic_shift(\"один два три четыре пять шесть семь\", 3)"
   ]
  },
  {
   "cell_type": "markdown",
   "metadata": {},
   "source": [
    "11) В списке целых чисел из диапозона от 1 до 20 заменить все числа не являющиеся простыми на составляющие их простые множители (которые включаются в виде отдельных элементов списка на место исключаемого числа). Каратные простые множетели добавлять количество раз составляющее их кратность в исходном числе.\n",
    "\n",
    "Пример: [3, 6, 7, 12] -> [3, 2, 3, 7, 2, 2, 3]"
   ]
  },
  {
   "cell_type": "code",
   "execution_count": 15,
   "metadata": {},
   "outputs": [],
   "source": [
    "def check_simple(num):\n",
    "    if num<=1:\n",
    "        return False\n",
    "    else:\n",
    "        for i in range(2, num//2+1):\n",
    "            if num%i==0:\n",
    "                break\n",
    "        else:\n",
    "            return True\n",
    "    return False"
   ]
  },
  {
   "cell_type": "code",
   "execution_count": 16,
   "metadata": {},
   "outputs": [
    {
     "data": {
      "text/plain": [
       "False"
      ]
     },
     "execution_count": 16,
     "metadata": {},
     "output_type": "execute_result"
    }
   ],
   "source": [
    "check_simple(4)"
   ]
  },
  {
   "cell_type": "code",
   "execution_count": 18,
   "metadata": {},
   "outputs": [
    {
     "data": {
      "text/plain": [
       "[3, 2, 3, 7, 2, 2, 3]"
      ]
     },
     "execution_count": 18,
     "metadata": {},
     "output_type": "execute_result"
    }
   ],
   "source": [
    "lst = [3, 6, 7, 12]\n",
    "final_lst = []\n",
    "for i in lst:\n",
    "    if check_simple(i):\n",
    "        final_lst.append(i)\n",
    "    else:\n",
    "        simple_lst = []\n",
    "        copy_i = i\n",
    "        while copy_i != 1:\n",
    "            for j in range(1, copy_i+1):\n",
    "                if copy_i%j==0 and check_simple(j):\n",
    "                    simple_lst.append(j)\n",
    "                    copy_i = copy_i // j\n",
    "        final_lst.extend(sorted(simple_lst))\n",
    "final_lst"
   ]
  },
  {
   "cell_type": "code",
   "execution_count": 21,
   "metadata": {},
   "outputs": [
    {
     "data": {
      "text/plain": [
       "[3, 2, 3, 7, 2, 2, 3]"
      ]
     },
     "execution_count": 21,
     "metadata": {},
     "output_type": "execute_result"
    }
   ],
   "source": [
    "#Второй вариант\n",
    "lst = [3, 6, 7, 12]\n",
    "final_lst = []\n",
    "def integer_factorization(num):\n",
    "    factors = []\n",
    "    while num %2 ==0:\n",
    "        factors.append(2)\n",
    "        num //= 2\n",
    "    for i in range(3,int(num**(1/2))+1,2): \n",
    "        while n % i== 0: \n",
    "            factors.append(i)\n",
    "            n = n / i\n",
    "    if num > 2:\n",
    "        factors.append(num)\n",
    "    return factors\n",
    "\n",
    "for i in lst:\n",
    "    final_lst.extend(integer_factorization(i))\n",
    "final_lst"
   ]
  },
  {
   "cell_type": "markdown",
   "metadata": {},
   "source": [
    "12) В списке, состоящем из чисел найти значение меньше или равно которому только одно значения из списка."
   ]
  },
  {
   "cell_type": "code",
   "execution_count": 2,
   "metadata": {},
   "outputs": [
    {
     "name": "stdout",
     "output_type": "stream",
     "text": [
      "2\n"
     ]
    }
   ],
   "source": [
    "lst = [1,2,3,4]\n",
    "for i, e in enumerate(lst):\n",
    "    counter = 0\n",
    "    for j, v in enumerate(lst):\n",
    "        if j!=i and e>=v:\n",
    "            counter += 1\n",
    "    if counter==1:\n",
    "        el = e\n",
    "print(el)\n",
    "        "
   ]
  },
  {
   "cell_type": "markdown",
   "metadata": {},
   "source": [
    "13) Найти индекс в списке для значения, найденного в задаче 12."
   ]
  },
  {
   "cell_type": "code",
   "execution_count": 3,
   "metadata": {},
   "outputs": [
    {
     "data": {
      "text/plain": [
       "1"
      ]
     },
     "execution_count": 3,
     "metadata": {},
     "output_type": "execute_result"
    }
   ],
   "source": [
    "lst.index(el)"
   ]
  },
  {
   "cell_type": "markdown",
   "metadata": {},
   "source": [
    "14) Найти индекс второго с конца вхождения значения 1 в список из целых чисел.ь"
   ]
  },
  {
   "cell_type": "code",
   "execution_count": 7,
   "metadata": {},
   "outputs": [
    {
     "data": {
      "text/plain": [
       "7"
      ]
     },
     "execution_count": 7,
     "metadata": {},
     "output_type": "execute_result"
    }
   ],
   "source": [
    "lst = [1,2,3,4,2,1,2,1,2,1]\n",
    "len(lst) - lst[::-1].index(1,lst[::-1].index(1)+1) - 1\n"
   ]
  },
  {
   "cell_type": "markdown",
   "metadata": {},
   "source": [
    "15) Реализовать функцию умножения двух матриц, записанных как список списков. Проверить на умножении матрицы на единичную матрицу."
   ]
  },
  {
   "cell_type": "code",
   "execution_count": null,
   "metadata": {},
   "outputs": [],
   "source": [
    "matrix = [[1, 2, 3], [4, 5, 6], [7, 8, 9]]\n",
    "one_matrix = [[1 if j==i else 0 for j in range(3) ] for i in range(3)]\n",
    "final_matrix = []\n",
    "for i in range(len(matrix)):\n",
    "    line = []\n",
    "    for j in range(len(one_matrix[0])):\n",
    "        one_element = 0\n",
    "        for k in range(len(one_matrix)):\n",
    "            one_element += matrix[i][k]*one_matrix[k][j]\n",
    "        line.append(one_element)\n",
    "    final_matrix.append(line)\n",
    "final_matrix"
   ]
  },
  {
   "cell_type": "code",
   "execution_count": null,
   "metadata": {},
   "outputs": [],
   "source": [
    "def multiply_matrix(matrix1, matrix2):\n",
    "    if len(matrix1[0])!=len(matrix2):\n",
    "        return False\n",
    "    else:\n",
    "        final_matrix = []\n",
    "        for i in range(len(matrix1)):\n",
    "            line = []\n",
    "            for j in range(len(matrix2[0])):\n",
    "                one_element = 0\n",
    "                for k in range(len(matrix2)):\n",
    "                    one_element += matrix1[i][k]*matrix2[k][j]\n",
    "                line.append(one_element)\n",
    "            final_matrix.append(line)\n",
    "    return final_matrix\n",
    "multiply_matrix(matrix, one_matrix)"
   ]
  },
  {
   "cell_type": "markdown",
   "metadata": {},
   "source": [
    "16) Создать копию матрицы, записанной в виде вложенных списков, так что при изменении элементов исходной матрицы, скопированная матрица меняться не будет. "
   ]
  },
  {
   "cell_type": "code",
   "execution_count": null,
   "metadata": {},
   "outputs": [],
   "source": [
    "import copy\n",
    "lst = copy.deepcopy(final_matrix)\n",
    "lst"
   ]
  },
  {
   "cell_type": "markdown",
   "metadata": {},
   "source": [
    "17) Осортировать слова в строке (с пробелом в качестве разделителя) в лексикографическом порядке.\n",
    "\n",
    "Пример: 'дыня абрикос яблоко арбуз' -> 'абрикос арбуз дыня яблоко'"
   ]
  },
  {
   "cell_type": "code",
   "execution_count": null,
   "metadata": {},
   "outputs": [],
   "source": [
    "string = 'дыня абрикос яблоко арбуз'\n",
    "lst = \" \".join(sorted(string.split()))\n",
    "lst"
   ]
  },
  {
   "cell_type": "markdown",
   "metadata": {},
   "source": [
    "18) Имеется переменная lsls содержащая список списков. Заранее неизвестно, сколько в переменной списков и какой они длинны (их длинны в общем случае различны). Из этих списков составить список, содержащий поорчедно элементы каждого из вложенных списков, при этом, порядок этих элементов сохраняется. Процедура создания списка останавливается когда хотя бы в одном из исходных вложенных списков будут использованные все элементы. Кроме составленного списка получить список из всех элементов не вошедших в составленный список.\n",
    "\n",
    "Пример: lsls=[[1,2,3],['a', 'b'], [30, 40, 50, 60]] -> [1, 'a', 30, 2, 'b', 40], [3, 50, 60]"
   ]
  },
  {
   "cell_type": "code",
   "execution_count": null,
   "metadata": {},
   "outputs": [],
   "source": [
    "lsls = [[1,2,3],['a', 'b'], [30, 40, 50, 60]] \n",
    "min_len = len(lsls[0])\n",
    "for i in lsls[1:]:\n",
    "    if len(i)< min_len:\n",
    "        min_len = len(i)\n",
    "lst = []\n",
    "lst1 = []\n",
    "for _ in range(min_len):\n",
    "    for i in lsls:\n",
    "        lst.append(i[0])\n",
    "        i.pop(0)\n",
    "for i in lsls:\n",
    "    lst1.extend(i)\n",
    "lst,lst1"
   ]
  },
  {
   "cell_type": "code",
   "execution_count": null,
   "metadata": {},
   "outputs": [],
   "source": []
  }
 ],
 "metadata": {
  "kernelspec": {
   "display_name": "Python 3",
   "language": "python",
   "name": "python3"
  },
  "language_info": {
   "codemirror_mode": {
    "name": "ipython",
    "version": 3
   },
   "file_extension": ".py",
   "mimetype": "text/x-python",
   "name": "python",
   "nbconvert_exporter": "python",
   "pygments_lexer": "ipython3",
   "version": "3.6.5"
  }
 },
 "nbformat": 4,
 "nbformat_minor": 2
}
