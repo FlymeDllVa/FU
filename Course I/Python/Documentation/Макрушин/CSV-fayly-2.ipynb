{
 "cells": [
  {
   "cell_type": "code",
   "execution_count": 2,
   "metadata": {},
   "outputs": [],
   "source": [
    "import csv"
   ]
  },
  {
   "cell_type": "markdown",
   "metadata": {},
   "source": [
    "Подключение обработчика csv файла идет с помощью команды <b>import csv</b>"
   ]
  },
  {
   "cell_type": "code",
   "execution_count": 19,
   "metadata": {},
   "outputs": [],
   "source": [
    "file = \"points.csv\"\n",
    "with open(file, 'r') as f:\n",
    "    csv_reader = csv.reader(f)\n",
    "#     for i in csv_reader:\n",
    "#         print(i)"
   ]
  },
  {
   "cell_type": "markdown",
   "metadata": {},
   "source": [
    "csv.reader - производит чтение файла. delimiter - какой разделитель между знаками"
   ]
  },
  {
   "cell_type": "code",
   "execution_count": 21,
   "metadata": {},
   "outputs": [],
   "source": [
    "with open('eggs.csv', 'w', newline='') as csvfile:\n",
    "    spamwriter = csv.writer(csvfile, delimiter=';')\n",
    "    spamwriter.writerow(['Spam'] * 5 + ['Baked Beans'])\n",
    "    spamwriter.writerow(['Spam', 'Lovely Spam', 'Wonderful Spam'])"
   ]
  },
  {
   "cell_type": "code",
   "execution_count": 12,
   "metadata": {},
   "outputs": [],
   "source": [
    "with open('eggs.csv', 'w', newline='') as csvfile:\n",
    "    spamwriter = csv.writer(csvfile, delimiter=';')\n",
    "    lst = [\n",
    "        ['Spam'] * 5 + ['Baked Beans'],\n",
    "        ['Spam', 'Lovely Spam', 'Wonderful Spam']\n",
    "    ]\n",
    "    spamwriter.writerows(lst)"
   ]
  },
  {
   "cell_type": "code",
   "execution_count": 26,
   "metadata": {},
   "outputs": [
    {
     "name": "stdout",
     "output_type": "stream",
     "text": [
      "Baked Beans\n",
      "Lovely Spam\n",
      "Wonderful Spam\n"
     ]
    }
   ],
   "source": [
    "with open('names.csv', newline='') as csvfile:\n",
    "    reader = csv.DictReader(csvfile, delimiter=';')\n",
    "    for row in reader:\n",
    "        #print(row)\n",
    "        print(row['first_name'], row['last_name'])"
   ]
  },
  {
   "cell_type": "code",
   "execution_count": 25,
   "metadata": {},
   "outputs": [],
   "source": [
    "with open('names.csv', 'w', newline='') as csvfile:\n",
    "    lst = ['first_name', 'last_name']\n",
    "    writer = csv.DictWriter(csvfile, fieldnames=lst,\n",
    "                            delimiter=';')\n",
    "\n",
    "    writer.writeheader()\n",
    "    lst1 = [\n",
    "        {'first_name': 'Baked', 'last_name': 'Beans'},\n",
    "        {'first_name': 'Lovely', 'last_name': 'Spam'},\n",
    "        {'first_name': 'Wonderful', 'last_name': 'Spam'}\n",
    "    ]\n",
    "    for i in lst1:\n",
    "        writer.writerow(i)"
   ]
  },
  {
   "cell_type": "code",
   "execution_count": null,
   "metadata": {},
   "outputs": [],
   "source": []
  }
 ],
 "metadata": {
  "kernelspec": {
   "display_name": "Python 3",
   "language": "python",
   "name": "python3"
  },
  "language_info": {
   "codemirror_mode": {
    "name": "ipython",
    "version": 3
   },
   "file_extension": ".py",
   "mimetype": "text/x-python",
   "name": "python",
   "nbconvert_exporter": "python",
   "pygments_lexer": "ipython3",
   "version": "3.6.5"
  }
 },
 "nbformat": 4,
 "nbformat_minor": 2
}
