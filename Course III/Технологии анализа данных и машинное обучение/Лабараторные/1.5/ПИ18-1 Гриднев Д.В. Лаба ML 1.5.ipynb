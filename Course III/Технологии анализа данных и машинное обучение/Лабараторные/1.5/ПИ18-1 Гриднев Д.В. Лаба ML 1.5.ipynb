{
 "cells": [
  {
   "cell_type": "markdown",
   "metadata": {},
   "source": [
    "##### ПИ18-1 Гриднев Д.В."
   ]
  },
  {
   "cell_type": "code",
   "execution_count": 1,
   "metadata": {
    "pycharm": {
     "name": "#%%\n"
    }
   },
   "outputs": [],
   "source": [
    "import time\n",
    "import numpy as np\n",
    "from scipy.stats import sem\n",
    "from sklearn import metrics, svm\n",
    "from sklearn.linear_model import LogisticRegression\n",
    "from sklearn.model_selection import KFold, cross_val_score\n",
    "from sklearn.naive_bayes import MultinomialNB\n",
    "from sklearn.neighbors import KNeighborsClassifier\n",
    "from sklearn.neural_network import MLPClassifier\n",
    "from sklearn.pipeline import Pipeline\n",
    "from sklearn.datasets import fetch_20newsgroups\n",
    "from sklearn.feature_extraction.text import TfidfVectorizer"
   ]
  },
  {
   "cell_type": "markdown",
   "metadata": {
    "pycharm": {
     "name": "#%% md\n"
    }
   },
   "source": [
    "Достаём обучающую и тестовую выборки, оставив только текст"
   ]
  },
  {
   "cell_type": "code",
   "execution_count": 2,
   "metadata": {
    "pycharm": {
     "is_executing": true,
     "name": "#%%\n"
    }
   },
   "outputs": [],
   "source": [
    "train = fetch_20newsgroups(subset=\"train\",remove=(\"headers\", \"footers\", \"quotes\"))\n",
    "test = fetch_20newsgroups(subset=\"test\", remove=(\"headers\", \"footers\", \"quotes\"))\n",
    "all_set = fetch_20newsgroups(subset=\"all\", remove=(\"headers\", \"footers\", \"quotes\"))"
   ]
  },
  {
   "cell_type": "code",
   "execution_count": 3,
   "metadata": {
    "pycharm": {
     "is_executing": true,
     "name": "#%%\n"
    }
   },
   "outputs": [],
   "source": [
    "train = fetch_20newsgroups(subset=\"train\")\n",
    "test = fetch_20newsgroups(subset=\"test\")\n",
    "all_set = fetch_20newsgroups(subset=\"all\")"
   ]
  },
  {
   "cell_type": "code",
   "execution_count": 4,
   "metadata": {
    "pycharm": {
     "name": "#%%\n"
    }
   },
   "outputs": [],
   "source": [
    "clf = Pipeline([\n",
    "    ('vect', TfidfVectorizer(token_pattern=r\"\\b[a-z0-9_\\-\\.]+[a-z][a-z0-9_\\-\\.]+\\b\",)),\n",
    "    ('clf', MultinomialNB(alpha=0.01)),\n",
    "])"
   ]
  },
  {
   "cell_type": "code",
   "execution_count": 5,
   "metadata": {
    "pycharm": {
     "is_executing": true,
     "name": "#%%\n"
    }
   },
   "outputs": [
    {
     "data": {
      "text/plain": [
       "Pipeline(steps=[('vect',\n",
       "                 TfidfVectorizer(token_pattern='\\\\b[a-z0-9_\\\\-\\\\.]+[a-z][a-z0-9_\\\\-\\\\.]+\\\\b')),\n",
       "                ('clf', MultinomialNB(alpha=0.01))])"
      ]
     },
     "execution_count": 5,
     "metadata": {},
     "output_type": "execute_result"
    }
   ],
   "source": [
    "clf.fit(train.data, train.target)\n"
   ]
  },
  {
   "cell_type": "code",
   "execution_count": 6,
   "metadata": {
    "pycharm": {
     "name": "#%%\n"
    }
   },
   "outputs": [
    {
     "name": "stdout",
     "output_type": "stream",
     "text": [
      "From: twillis@ec.ecn.purdue.edu (Thomas E Willis)\n",
      "Subject: PB questions...\n",
      "Organization: Purdue University Engineering Computer Network\n",
      "Distribution: usa\n",
      "Lines: 36\n",
      "\n",
      "well folks, my mac plus finally gave up the ghost this weekend after\n",
      "starting life as a 512k way back in 1985.  sooo, i'm in the market for a\n",
      "new machine a bit sooner than i intended to be...\n",
      "\n",
      "i'm looking into picking up a powerbook 160 or maybe 180 and have a bunch\n",
      "of questions that (hopefully) somebody can answer:\n",
      "\n",
      "* does anybody know any dirt on when the next round of powerbook\n",
      "introductions are expected?  i'd heard the 185c was supposed to make an\n",
      "appearence \"this summer\" but haven't heard anymore on it - and since i\n",
      "don't have access to macleak, i was wondering if anybody out there had\n",
      "more info...\n",
      "\n",
      "* has anybody heard rumors about price drops to the powerbook line like the\n",
      "ones the duo's just went through recently?\n",
      "\n",
      "* what's the impression of the display on the 180?  i could probably swing\n",
      "a 180 if i got the 80Mb disk rather than the 120, but i don't really have\n",
      "a feel for how much \"better\" the display is (yea, it looks great in the\n",
      "store, but is that all \"wow\" or is it really that good?).  could i solicit\n",
      "some opinions of people who use the 160 and 180 day-to-day on if its worth\n",
      "taking the disk size and money hit to get the active display?  (i realize\n",
      "this is a real subjective question, but i've only played around with the\n",
      "machines in a computer store breifly and figured the opinions of somebody\n",
      "who actually uses the machine daily might prove helpful).\n",
      "\n",
      "* how well does hellcats perform?  ;)\n",
      "\n",
      "thanks a bunch in advance for any info - if you could email, i'll post a\n",
      "summary (news reading time is at a premium with finals just around the\n",
      "corner... :( )\n",
      "--\n",
      "Tom Willis  \\  twillis@ecn.purdue.edu    \\    Purdue Electrical Engineering\n",
      "---------------------------------------------------------------------------\n",
      "\"Convictions are more dangerous enemies of truth than lies.\"  - F. W.\n",
      "Nietzsche\n",
      "\n"
     ]
    }
   ],
   "source": [
    "print(train.data[2])"
   ]
  },
  {
   "cell_type": "markdown",
   "metadata": {},
   "source": [
    "Метрики"
   ]
  },
  {
   "cell_type": "code",
   "execution_count": 7,
   "metadata": {
    "pycharm": {
     "name": "#%%\n"
    }
   },
   "outputs": [
    {
     "name": "stdout",
     "output_type": "stream",
     "text": [
      "\n",
      "accuracy: 0.8462559745087627\n",
      "precision: 0.8478256434323562\n",
      "recall: 0.8462559745087627\n",
      "\n"
     ]
    }
   ],
   "source": [
    "predict = clf.predict(test.data)\n",
    "print(f\"\"\"\n",
    "accuracy: {metrics.accuracy_score(test.target, predict)}\n",
    "precision: {metrics.precision_score(test.target, predict, average='weighted', zero_division=0)}\n",
    "recall: {metrics.recall_score(test.target, predict, average='weighted', zero_division=0)}\n",
    "\"\"\")\n"
   ]
  },
  {
   "cell_type": "code",
   "execution_count": 8,
   "metadata": {
    "pycharm": {
     "name": "#%%\n"
    }
   },
   "outputs": [
    {
     "name": "stdout",
     "output_type": "stream",
     "text": [
      "Mean: 0.9219461712293434 ±0.0018819152501145934\n"
     ]
    }
   ],
   "source": [
    "cv = KFold(5, shuffle=True, random_state=0).get_n_splits(len(train.target))\n",
    "scores = cross_val_score(clf, all_set.data, all_set.target, cv=cv)\n",
    "print(f\"Mean: {np.mean(scores)} ±{sem(scores)}\")"
   ]
  },
  {
   "cell_type": "markdown",
   "metadata": {},
   "source": [
    "Другие классификаторы"
   ]
  },
  {
   "cell_type": "code",
   "execution_count": null,
   "metadata": {
    "pycharm": {
     "name": "#%%\n"
    }
   },
   "outputs": [
    {
     "name": "stdout",
     "output_type": "stream",
     "text": [
      "Pipeline(steps=[('vect',\n",
      "                 TfidfVectorizer(token_pattern='\\\\b[a-z0-9_\\\\-\\\\.]+[a-z][a-z0-9_\\\\-\\\\.]+\\\\b')),\n",
      "                ('clf', LogisticRegression(max_iter=10000, n_jobs=-1))]) \n",
      "Затрачено секунд  47.688963890075684 \n",
      "Score 0.830987785448752 \n",
      "Метрика достоверности предсказания 0.830987785448752 \n",
      "Метрика точности 0.8353616648830646 \n",
      "Метрика полноты 0.830987785448752 \n",
      "\n",
      "Pipeline(steps=[('vect',\n",
      "                 TfidfVectorizer(token_pattern='\\\\b[a-z0-9_\\\\-\\\\.]+[a-z][a-z0-9_\\\\-\\\\.]+\\\\b')),\n",
      "                ('clf', SVC(kernel='linear'))]) \n",
      "Затрачено секунд  134.57499980926514 \n",
      "Score 0.8353690918746681 \n",
      "Метрика достоверности предсказания 0.8353690918746681 \n",
      "Метрика точности 0.8404139136691945 \n",
      "Метрика полноты 0.8353690918746681 \n",
      "\n",
      "Pipeline(steps=[('vect',\n",
      "                 TfidfVectorizer(token_pattern='\\\\b[a-z0-9_\\\\-\\\\.]+[a-z][a-z0-9_\\\\-\\\\.]+\\\\b')),\n",
      "                ('clf', SVC())]) \n",
      "Затрачено секунд  350.6934621334076 \n",
      "Score 0.8208975039830059 \n",
      "Метрика достоверности предсказания 0.8208975039830059 \n",
      "Метрика точности 0.8336221901940729 \n",
      "Метрика полноты 0.8208975039830059 \n",
      "\n",
      "Pipeline(steps=[('vect',\n",
      "                 TfidfVectorizer(token_pattern='\\\\b[a-z0-9_\\\\-\\\\.]+[a-z][a-z0-9_\\\\-\\\\.]+\\\\b')),\n",
      "                ('clf', KNeighborsClassifier(n_jobs=-1))]) \n",
      "Затрачено секунд  2.8612029552459717 \n",
      "Score 0.709506107275624 \n",
      "Метрика достоверности предсказания 0.709506107275624 \n",
      "Метрика точности 0.7170643939329975 \n",
      "Метрика полноты 0.709506107275624 \n",
      "\n"
     ]
    }
   ],
   "source": [
    "models = [\n",
    "    LogisticRegression(max_iter=10000, n_jobs=-1),\n",
    "    svm.SVC(kernel='linear'),\n",
    "    svm.SVC(kernel='rbf'),\n",
    "    KNeighborsClassifier(n_jobs=-1),\n",
    "    MLPClassifier(max_iter=10000)\n",
    "]\n",
    "\n",
    "for model in models:\n",
    "    start_time = time.time()\n",
    "    clf = Pipeline([\n",
    "    ('vect', TfidfVectorizer(\n",
    "                token_pattern=r\"\\b[a-z0-9_\\-\\.]+[a-z][a-z0-9_\\-\\.]+\\b\",\n",
    "    )),\n",
    "    ('clf', model),\n",
    "])\n",
    "    clf.fit(train.data, train.target)\n",
    "\n",
    "    spend_time = time.time() - start_time\n",
    "    predict = clf.predict(test.data)\n",
    "    print(\n",
    "        clf,\n",
    "        \"\\nЗатрачено секунд \",\n",
    "        spend_time,\n",
    "        \"\\nScore\",\n",
    "        clf.score(test.data, test.target),\n",
    "        \"\\nМетрика достоверности предсказания\",\n",
    "        metrics.accuracy_score(test.target, predict),\n",
    "        \"\\nМетрика точности\",\n",
    "        metrics.precision_score(test.target, predict, average=\"weighted\", zero_division=0),\n",
    "        \"\\nМетрика полноты\",\n",
    "        metrics.recall_score(test.target, predict,average=\"weighted\", zero_division=0),\n",
    "        \"\\n\"\n",
    "    )"
   ]
  },
  {
   "cell_type": "markdown",
   "metadata": {},
   "source": [
    "Лучше всего LogisticRegression, он же оказался самым быстрым\n",
    "\n",
    "KNeighbors не смог обучиться\n",
    "\n",
    "MLPClassifier хоть и оказался самым точным, но работал больше 45 минут. Там конечно стоит ставить ограничение на кол-во веток меньше :)"
   ]
  },
  {
   "cell_type": "code",
   "execution_count": null,
   "metadata": {},
   "outputs": [],
   "source": []
  }
 ],
 "metadata": {
  "kernelspec": {
   "display_name": "Python 3",
   "language": "python",
   "name": "python3"
  },
  "language_info": {
   "codemirror_mode": {
    "name": "ipython",
    "version": 3
   },
   "file_extension": ".py",
   "mimetype": "text/x-python",
   "name": "python",
   "nbconvert_exporter": "python",
   "pygments_lexer": "ipython3",
   "version": "3.8.3"
  }
 },
 "nbformat": 4,
 "nbformat_minor": 1
}
