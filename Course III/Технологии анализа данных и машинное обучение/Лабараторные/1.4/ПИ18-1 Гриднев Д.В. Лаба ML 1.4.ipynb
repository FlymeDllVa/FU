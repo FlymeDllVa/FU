{
 "cells": [
  {
   "cell_type": "markdown",
   "source": [
    "##### ПИ18-1 Гриднев Д.В."
   ],
   "metadata": {
    "collapsed": false
   }
  },
  {
   "cell_type": "code",
   "execution_count": 1,
   "outputs": [],
   "source": [
    "import numpy as np\n",
    "from sklearn import metrics\n",
    "from sklearn import svm\n",
    "from sklearn.datasets import fetch_olivetti_faces\n",
    "from sklearn.linear_model import LogisticRegression\n",
    "from sklearn.model_selection import train_test_split\n",
    "from sklearn.discriminant_analysis import LinearDiscriminantAnalysis\n",
    "from sklearn.tree import DecisionTreeClassifier\n",
    "from sklearn.neighbors import KNeighborsClassifier\n",
    "from sklearn.naive_bayes import GaussianNB\n",
    "from matplotlib import pyplot as plt"
   ],
   "metadata": {
    "collapsed": false,
    "pycharm": {
     "name": "#%%\n"
    }
   }
  },
  {
   "cell_type": "code",
   "execution_count": 2,
   "outputs": [],
   "source": [
    "# Как боги отрубаем SSL\n",
    "import ssl\n",
    "ssl._create_default_https_context = ssl._create_unverified_context\n",
    "\n",
    "\n",
    "faces = fetch_olivetti_faces()\n",
    "images = faces.data"
   ],
   "metadata": {
    "collapsed": false,
    "pycharm": {
     "name": "#%%\n"
    }
   }
  },
  {
   "cell_type": "code",
   "execution_count": 3,
   "outputs": [],
   "source": [
    "X_train, X_test, y_train, y_test = train_test_split(images, faces.target,\n",
    "                                                    test_size=0.2,\n",
    "                                                    random_state=True)"
   ],
   "metadata": {
    "collapsed": false,
    "pycharm": {
     "name": "#%%\n"
    }
   }
  },
  {
   "cell_type": "code",
   "execution_count": 4,
   "outputs": [
    {
     "data": {
      "text/plain": "SVC()"
     },
     "execution_count": 4,
     "metadata": {},
     "output_type": "execute_result"
    }
   ],
   "source": [
    "clf = svm.SVC()\n",
    "clf.fit(X_train, y_train)"
   ],
   "metadata": {
    "collapsed": false,
    "pycharm": {
     "name": "#%%\n"
    }
   }
  },
  {
   "cell_type": "code",
   "execution_count": 5,
   "outputs": [
    {
     "name": "stdout",
     "output_type": "stream",
     "text": [
      "metrics.accuracy_score(y_test, predict)=0.8375\n",
      "metrics.precision_score(y_test, predict, average='weighted', zero_division=0)=0.8120833333333334\n",
      "metrics.recall_score(y_test, predict,average='weighted', zero_division=0)=0.8375\n"
     ]
    }
   ],
   "source": [
    "predict = clf.predict(X_test)\n",
    "print(f\"{metrics.accuracy_score(y_test, predict)=}\\n\"\n",
    "      f\"{metrics.precision_score(y_test, predict, average='weighted', zero_division=0)=}\\n\"\n",
    "      f\"{metrics.recall_score(y_test, predict,average='weighted', zero_division=0)=}\")"
   ],
   "metadata": {
    "collapsed": false,
    "pycharm": {
     "name": "#%%\n"
    }
   }
  },
  {
   "cell_type": "code",
   "execution_count": 6,
   "outputs": [],
   "source": [
    "trainings, tests, size = [], [], np.linspace(0.6, 0.1, num=10)\n",
    "\n",
    "for test_size in np.linspace(0.6, 0.1, num=10):\n",
    "    X_train, X_test, y_train, y_test = train_test_split(images,\n",
    "                                                        faces.target,\n",
    "                                                        test_size=test_size,\n",
    "                                                        random_state=True)\n",
    "    clf = svm.SVC()\n",
    "    clf.fit(X_train, y_train)\n",
    "    trainings.append(clf.score(X_train, y_train))\n",
    "    tests.append(clf.score(X_test, y_test))"
   ],
   "metadata": {
    "collapsed": false,
    "pycharm": {
     "name": "#%%\n"
    }
   }
  },
  {
   "cell_type": "code",
   "execution_count": 7,
   "outputs": [
    {
     "data": {
      "text/plain": "Text(0, 0.5, 'Точность')"
     },
     "execution_count": 7,
     "metadata": {},
     "output_type": "execute_result"
    },
    {
     "data": {
      "text/plain": "<Figure size 432x288 with 1 Axes>",
      "image/png": "[encoded data removed]"
     },
     "metadata": {
      "needs_background": "light"
     },
     "output_type": "display_data"
    }
   ],
   "source": [
    "fig, ax = plt.subplots()\n",
    "ax.plot(size, trainings, \"r\")\n",
    "ax.plot(size, tests, \"b\")\n",
    "ax.set_xlabel(\"Размер выборки\")\n",
    "ax.set_ylabel(\"Точность\")"
   ],
   "metadata": {
    "collapsed": false,
    "pycharm": {
     "name": "#%%\n"
    }
   }
  },
  {
   "cell_type": "markdown",
   "source": [
    "# Другие модели"
   ],
   "metadata": {
    "collapsed": false
   }
  },
  {
   "cell_type": "code",
   "execution_count": 8,
   "outputs": [
    {
     "name": "stderr",
     "output_type": "stream",
     "text": [
      "/Library/Frameworks/Python.framework/Versions/3.8/lib/python3.8/site-packages/sklearn/linear_model/_logistic.py:762: ConvergenceWarning: lbfgs failed to converge (status=1):\n",
      "STOP: TOTAL NO. of ITERATIONS REACHED LIMIT.\n",
      "\n",
      "Increase the number of iterations (max_iter) or scale the data as shown in:\n",
      "    https://scikit-learn.org/stable/modules/preprocessing.html\n",
      "Please also refer to the documentation for alternative solver options:\n",
      "    https://scikit-learn.org/stable/modules/linear_model.html#logistic-regression\n",
      "  n_iter_i = _check_optimize_result(\n"
     ]
    },
    {
     "name": "stdout",
     "output_type": "stream",
     "text": [
      "LR: \n",
      "metrics.accuracy_score(y_test, predict)=0.975\n",
      "metrics.precision_score(y_test, predict, average='weighted', zero_division=0)=0.978125\n",
      "metrics.recall_score(y_test, predict,average='weighted', zero_division=0)=0.975\n",
      "\n",
      "\n",
      "LDA: \n",
      "metrics.accuracy_score(y_test, predict)=0.975\n",
      "metrics.precision_score(y_test, predict, average='weighted', zero_division=0)=0.9729166666666667\n",
      "metrics.recall_score(y_test, predict,average='weighted', zero_division=0)=0.975\n",
      "\n",
      "\n",
      "NB: \n",
      "metrics.accuracy_score(y_test, predict)=0.8625\n",
      "metrics.precision_score(y_test, predict, average='weighted', zero_division=0)=0.8797916666666665\n",
      "metrics.recall_score(y_test, predict,average='weighted', zero_division=0)=0.8625\n",
      "\n",
      "\n",
      "KNN: \n",
      "metrics.accuracy_score(y_test, predict)=0.8125\n",
      "metrics.precision_score(y_test, predict, average='weighted', zero_division=0)=0.8608630952380952\n",
      "metrics.recall_score(y_test, predict,average='weighted', zero_division=0)=0.8125\n",
      "\n",
      "\n",
      "DT: \n",
      "metrics.accuracy_score(y_test, predict)=0.5625\n",
      "metrics.precision_score(y_test, predict, average='weighted', zero_division=0)=0.6283333333333332\n",
      "metrics.recall_score(y_test, predict,average='weighted', zero_division=0)=0.5625\n",
      "\n",
      "\n",
      "SVM_linear: \n",
      "metrics.accuracy_score(y_test, predict)=0.9625\n",
      "metrics.precision_score(y_test, predict, average='weighted', zero_division=0)=0.96875\n",
      "metrics.recall_score(y_test, predict,average='weighted', zero_division=0)=0.9625\n",
      "\n",
      "\n",
      "SVM_rbf: \n",
      "metrics.accuracy_score(y_test, predict)=0.8375\n",
      "metrics.precision_score(y_test, predict, average='weighted', zero_division=0)=0.8120833333333334\n",
      "metrics.recall_score(y_test, predict,average='weighted', zero_division=0)=0.8375\n",
      "\n",
      "\n"
     ]
    }
   ],
   "source": [
    "X_train, X_test, y_train, y_test = train_test_split(images,\n",
    "                                                    faces.target,\n",
    "                                                    test_size=0.2,\n",
    "                                                    random_state=True)\n",
    "\n",
    "models = [\n",
    "    (\"LR\", LogisticRegression(max_iter=1000)),\n",
    "    ('LDA', LinearDiscriminantAnalysis()),\n",
    "    (\"NB\", GaussianNB()),\n",
    "    (\"KNN\", KNeighborsClassifier(n_neighbors=5)),\n",
    "    (\"DT\", DecisionTreeClassifier()),\n",
    "    (\"SVM_linear\", svm.SVC(kernel='linear')),\n",
    "    (\"SVM_rbf\", svm.SVC(kernel='rbf'))\n",
    "]\n",
    "\n",
    "for name, model in models:\n",
    "    model.fit(X_train, y_train)\n",
    "\n",
    "    predict = model.predict(X_test)\n",
    "\n",
    "\n",
    "    print(\n",
    "        f\"{name}: \\n{metrics.accuracy_score(y_test, predict)=}\\n\"\n",
    "        f\"{metrics.precision_score(y_test, predict, average='weighted', zero_division=0)=}\\n\"\n",
    "        f\"{metrics.recall_score(y_test, predict,average='weighted', zero_division=0)=}\\n\\n\"\n",
    "    )\n"
   ],
   "metadata": {
    "collapsed": false,
    "pycharm": {
     "name": "#%%\n"
    }
   }
  },
  {
   "cell_type": "code",
   "execution_count": 9,
   "outputs": [
    {
     "data": {
      "text/plain": "KNeighborsClassifier()"
     },
     "execution_count": 9,
     "metadata": {},
     "output_type": "execute_result"
    }
   ],
   "source": [
    "\n",
    "clf = KNeighborsClassifier()\n",
    "clf.fit(X_train, y_train)"
   ],
   "metadata": {
    "collapsed": false,
    "pycharm": {
     "name": "#%%\n"
    }
   }
  },
  {
   "cell_type": "code",
   "execution_count": 10,
   "outputs": [
    {
     "ename": "ValueError",
     "evalue": "multiclass format is not supported",
     "output_type": "error",
     "traceback": [
      "\u001B[0;31m---------------------------------------------------------------------------\u001B[0m",
      "\u001B[0;31mValueError\u001B[0m                                Traceback (most recent call last)",
      "\u001B[0;32m<ipython-input-10-93b103dfb006>\u001B[0m in \u001B[0;36m<module>\u001B[0;34m\u001B[0m\n\u001B[1;32m      1\u001B[0m \u001B[0mpreds\u001B[0m \u001B[0;34m=\u001B[0m \u001B[0mclf\u001B[0m\u001B[0;34m.\u001B[0m\u001B[0mpredict_proba\u001B[0m\u001B[0;34m(\u001B[0m\u001B[0mX_test\u001B[0m\u001B[0;34m)\u001B[0m\u001B[0;34m\u001B[0m\u001B[0;34m\u001B[0m\u001B[0m\n\u001B[0;32m----> 2\u001B[0;31m \u001B[0mfpr\u001B[0m\u001B[0;34m,\u001B[0m \u001B[0mtpr\u001B[0m\u001B[0;34m,\u001B[0m \u001B[0mthreshold\u001B[0m \u001B[0;34m=\u001B[0m \u001B[0mmetrics\u001B[0m\u001B[0;34m.\u001B[0m\u001B[0mroc_curve\u001B[0m\u001B[0;34m(\u001B[0m\u001B[0my_test\u001B[0m\u001B[0;34m,\u001B[0m \u001B[0mpreds\u001B[0m\u001B[0;34m,\u001B[0m\u001B[0;34m)\u001B[0m\u001B[0;34m\u001B[0m\u001B[0;34m\u001B[0m\u001B[0m\n\u001B[0m\u001B[1;32m      3\u001B[0m \u001B[0mroc_auc\u001B[0m \u001B[0;34m=\u001B[0m \u001B[0mmetrics\u001B[0m\u001B[0;34m.\u001B[0m\u001B[0mauc\u001B[0m\u001B[0;34m(\u001B[0m\u001B[0mfpr\u001B[0m\u001B[0;34m,\u001B[0m \u001B[0mtpr\u001B[0m\u001B[0;34m)\u001B[0m\u001B[0;34m\u001B[0m\u001B[0;34m\u001B[0m\u001B[0m\n\u001B[1;32m      4\u001B[0m \u001B[0;34m\u001B[0m\u001B[0m\n",
      "\u001B[0;32m/Library/Frameworks/Python.framework/Versions/3.8/lib/python3.8/site-packages/sklearn/utils/validation.py\u001B[0m in \u001B[0;36minner_f\u001B[0;34m(*args, **kwargs)\u001B[0m\n\u001B[1;32m     70\u001B[0m                           FutureWarning)\n\u001B[1;32m     71\u001B[0m         \u001B[0mkwargs\u001B[0m\u001B[0;34m.\u001B[0m\u001B[0mupdate\u001B[0m\u001B[0;34m(\u001B[0m\u001B[0;34m{\u001B[0m\u001B[0mk\u001B[0m\u001B[0;34m:\u001B[0m \u001B[0marg\u001B[0m \u001B[0;32mfor\u001B[0m \u001B[0mk\u001B[0m\u001B[0;34m,\u001B[0m \u001B[0marg\u001B[0m \u001B[0;32min\u001B[0m \u001B[0mzip\u001B[0m\u001B[0;34m(\u001B[0m\u001B[0msig\u001B[0m\u001B[0;34m.\u001B[0m\u001B[0mparameters\u001B[0m\u001B[0;34m,\u001B[0m \u001B[0margs\u001B[0m\u001B[0;34m)\u001B[0m\u001B[0;34m}\u001B[0m\u001B[0;34m)\u001B[0m\u001B[0;34m\u001B[0m\u001B[0;34m\u001B[0m\u001B[0m\n\u001B[0;32m---> 72\u001B[0;31m         \u001B[0;32mreturn\u001B[0m \u001B[0mf\u001B[0m\u001B[0;34m(\u001B[0m\u001B[0;34m**\u001B[0m\u001B[0mkwargs\u001B[0m\u001B[0;34m)\u001B[0m\u001B[0;34m\u001B[0m\u001B[0;34m\u001B[0m\u001B[0m\n\u001B[0m\u001B[1;32m     73\u001B[0m     \u001B[0;32mreturn\u001B[0m \u001B[0minner_f\u001B[0m\u001B[0;34m\u001B[0m\u001B[0;34m\u001B[0m\u001B[0m\n\u001B[1;32m     74\u001B[0m \u001B[0;34m\u001B[0m\u001B[0m\n",
      "\u001B[0;32m/Library/Frameworks/Python.framework/Versions/3.8/lib/python3.8/site-packages/sklearn/metrics/_ranking.py\u001B[0m in \u001B[0;36mroc_curve\u001B[0;34m(y_true, y_score, pos_label, sample_weight, drop_intermediate)\u001B[0m\n\u001B[1;32m    773\u001B[0m \u001B[0;34m\u001B[0m\u001B[0m\n\u001B[1;32m    774\u001B[0m     \"\"\"\n\u001B[0;32m--> 775\u001B[0;31m     fps, tps, thresholds = _binary_clf_curve(\n\u001B[0m\u001B[1;32m    776\u001B[0m         y_true, y_score, pos_label=pos_label, sample_weight=sample_weight)\n\u001B[1;32m    777\u001B[0m \u001B[0;34m\u001B[0m\u001B[0m\n",
      "\u001B[0;32m/Library/Frameworks/Python.framework/Versions/3.8/lib/python3.8/site-packages/sklearn/metrics/_ranking.py\u001B[0m in \u001B[0;36m_binary_clf_curve\u001B[0;34m(y_true, y_score, pos_label, sample_weight)\u001B[0m\n\u001B[1;32m    537\u001B[0m     if not (y_type == \"binary\" or\n\u001B[1;32m    538\u001B[0m             (y_type == \"multiclass\" and pos_label is not None)):\n\u001B[0;32m--> 539\u001B[0;31m         \u001B[0;32mraise\u001B[0m \u001B[0mValueError\u001B[0m\u001B[0;34m(\u001B[0m\u001B[0;34m\"{0} format is not supported\"\u001B[0m\u001B[0;34m.\u001B[0m\u001B[0mformat\u001B[0m\u001B[0;34m(\u001B[0m\u001B[0my_type\u001B[0m\u001B[0;34m)\u001B[0m\u001B[0;34m)\u001B[0m\u001B[0;34m\u001B[0m\u001B[0;34m\u001B[0m\u001B[0m\n\u001B[0m\u001B[1;32m    540\u001B[0m \u001B[0;34m\u001B[0m\u001B[0m\n\u001B[1;32m    541\u001B[0m     \u001B[0mcheck_consistent_length\u001B[0m\u001B[0;34m(\u001B[0m\u001B[0my_true\u001B[0m\u001B[0;34m,\u001B[0m \u001B[0my_score\u001B[0m\u001B[0;34m,\u001B[0m \u001B[0msample_weight\u001B[0m\u001B[0;34m)\u001B[0m\u001B[0;34m\u001B[0m\u001B[0;34m\u001B[0m\u001B[0m\n",
      "\u001B[0;31mValueError\u001B[0m: multiclass format is not supported"
     ]
    }
   ],
   "source": [
    "preds = clf.predict_proba(X_test)\n",
    "fpr, tpr, threshold = metrics.roc_curve(y_test, preds,)\n",
    "roc_auc = metrics.auc(fpr, tpr)"
   ],
   "metadata": {
    "collapsed": false,
    "pycharm": {
     "name": "#%%\n"
    }
   }
  },
  {
   "cell_type": "code",
   "execution_count": null,
   "outputs": [],
   "source": [
    "plt.plot(fpr, tpr, 'r')"
   ],
   "metadata": {
    "collapsed": false,
    "pycharm": {
     "name": "#%%\n"
    }
   }
  }
 ],
 "metadata": {
  "kernelspec": {
   "display_name": "Python 3",
   "language": "python",
   "name": "python3"
  },
  "language_info": {
   "codemirror_mode": {
    "name": "ipython",
    "version": 3
   },
   "file_extension": ".py",
   "mimetype": "text/x-python",
   "name": "python",
   "nbconvert_exporter": "python",
   "pygments_lexer": "ipython3",
   "version": "3.8.3"
  }
 },
 "nbformat": 4,
 "nbformat_minor": 1
}