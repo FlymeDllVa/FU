{
 "cells": [
  {
   "cell_type": "code",
   "execution_count": 1,
   "metadata": {
    "pycharm": {
     "name": "#%%\n"
    }
   },
   "outputs": [],
   "source": [
    "import random\n",
    "import numpy as np\n",
    "import pandas as pd\n",
    "import matplotlib.pyplot as plt\n",
    "from typing import Tuple, List, Union\n",
    "from abc import ABCMeta"
   ]
  },
  {
   "cell_type": "code",
   "execution_count": 2,
   "metadata": {
    "pycharm": {
     "name": "#%%\n"
    }
   },
   "outputs": [],
   "source": [
    "sber = pd.read_csv(\"SBER_101001_171001.txt\")\n",
    "mvid = pd.read_csv(\"MVID_101001_171001.txt\")\n",
    "yndx = pd.read_csv(\"YNDX_101001_171001.txt\")"
   ]
  },
  {
   "cell_type": "code",
   "execution_count": 3,
   "metadata": {
    "pycharm": {
     "name": "#%%\n"
    }
   },
   "outputs": [
    {
     "data": {
      "text/html": [
       "<div>\n",
       "<style scoped>\n",
       "    .dataframe tbody tr th:only-of-type {\n",
       "        vertical-align: middle;\n",
       "    }\n",
       "\n",
       "    .dataframe tbody tr th {\n",
       "        vertical-align: top;\n",
       "    }\n",
       "\n",
       "    .dataframe thead th {\n",
       "        text-align: right;\n",
       "    }\n",
       "</style>\n",
       "<table border=\"1\" class=\"dataframe\">\n",
       "  <thead>\n",
       "    <tr style=\"text-align: right;\">\n",
       "      <th></th>\n",
       "      <th>&lt;TICKER&gt;</th>\n",
       "      <th>&lt;PER&gt;</th>\n",
       "      <th>&lt;DATE&gt;</th>\n",
       "      <th>&lt;TIME&gt;</th>\n",
       "      <th>&lt;CLOSE&gt;</th>\n",
       "      <th>&lt;VOL&gt;</th>\n",
       "    </tr>\n",
       "  </thead>\n",
       "  <tbody>\n",
       "    <tr>\n",
       "      <th>0</th>\n",
       "      <td>SBER</td>\n",
       "      <td>D</td>\n",
       "      <td>20101001</td>\n",
       "      <td>0</td>\n",
       "      <td>89.09</td>\n",
       "      <td>332429890</td>\n",
       "    </tr>\n",
       "    <tr>\n",
       "      <th>1</th>\n",
       "      <td>SBER</td>\n",
       "      <td>D</td>\n",
       "      <td>20101004</td>\n",
       "      <td>0</td>\n",
       "      <td>89.88</td>\n",
       "      <td>194032721</td>\n",
       "    </tr>\n",
       "    <tr>\n",
       "      <th>2</th>\n",
       "      <td>SBER</td>\n",
       "      <td>D</td>\n",
       "      <td>20101005</td>\n",
       "      <td>0</td>\n",
       "      <td>91.97</td>\n",
       "      <td>198775753</td>\n",
       "    </tr>\n",
       "    <tr>\n",
       "      <th>3</th>\n",
       "      <td>SBER</td>\n",
       "      <td>D</td>\n",
       "      <td>20101006</td>\n",
       "      <td>0</td>\n",
       "      <td>91.20</td>\n",
       "      <td>210406027</td>\n",
       "    </tr>\n",
       "    <tr>\n",
       "      <th>4</th>\n",
       "      <td>SBER</td>\n",
       "      <td>D</td>\n",
       "      <td>20101007</td>\n",
       "      <td>0</td>\n",
       "      <td>90.40</td>\n",
       "      <td>145137617</td>\n",
       "    </tr>\n",
       "  </tbody>\n",
       "</table>\n",
       "</div>"
      ],
      "text/plain": [
       "  <TICKER> <PER>    <DATE>  <TIME>  <CLOSE>      <VOL>\n",
       "0     SBER     D  20101001       0    89.09  332429890\n",
       "1     SBER     D  20101004       0    89.88  194032721\n",
       "2     SBER     D  20101005       0    91.97  198775753\n",
       "3     SBER     D  20101006       0    91.20  210406027\n",
       "4     SBER     D  20101007       0    90.40  145137617"
      ]
     },
     "execution_count": 3,
     "metadata": {},
     "output_type": "execute_result"
    }
   ],
   "source": [
    "sber.head()"
   ]
  },
  {
   "cell_type": "code",
   "execution_count": 4,
   "metadata": {
    "pycharm": {
     "name": "#%%\n"
    }
   },
   "outputs": [
    {
     "data": {
      "text/html": [
       "<div>\n",
       "<style scoped>\n",
       "    .dataframe tbody tr th:only-of-type {\n",
       "        vertical-align: middle;\n",
       "    }\n",
       "\n",
       "    .dataframe tbody tr th {\n",
       "        vertical-align: top;\n",
       "    }\n",
       "\n",
       "    .dataframe thead th {\n",
       "        text-align: right;\n",
       "    }\n",
       "</style>\n",
       "<table border=\"1\" class=\"dataframe\">\n",
       "  <thead>\n",
       "    <tr style=\"text-align: right;\">\n",
       "      <th></th>\n",
       "      <th>&lt;TICKER&gt;</th>\n",
       "      <th>&lt;PER&gt;</th>\n",
       "      <th>&lt;DATE&gt;</th>\n",
       "      <th>&lt;TIME&gt;</th>\n",
       "      <th>&lt;CLOSE&gt;</th>\n",
       "      <th>&lt;VOL&gt;</th>\n",
       "    </tr>\n",
       "  </thead>\n",
       "  <tbody>\n",
       "    <tr>\n",
       "      <th>0</th>\n",
       "      <td>MVID</td>\n",
       "      <td>D</td>\n",
       "      <td>20101001</td>\n",
       "      <td>0</td>\n",
       "      <td>194.38</td>\n",
       "      <td>19406</td>\n",
       "    </tr>\n",
       "    <tr>\n",
       "      <th>1</th>\n",
       "      <td>MVID</td>\n",
       "      <td>D</td>\n",
       "      <td>20101004</td>\n",
       "      <td>0</td>\n",
       "      <td>190.00</td>\n",
       "      <td>31039</td>\n",
       "    </tr>\n",
       "    <tr>\n",
       "      <th>2</th>\n",
       "      <td>MVID</td>\n",
       "      <td>D</td>\n",
       "      <td>20101005</td>\n",
       "      <td>0</td>\n",
       "      <td>187.00</td>\n",
       "      <td>17651</td>\n",
       "    </tr>\n",
       "    <tr>\n",
       "      <th>3</th>\n",
       "      <td>MVID</td>\n",
       "      <td>D</td>\n",
       "      <td>20101006</td>\n",
       "      <td>0</td>\n",
       "      <td>190.04</td>\n",
       "      <td>36482</td>\n",
       "    </tr>\n",
       "    <tr>\n",
       "      <th>4</th>\n",
       "      <td>MVID</td>\n",
       "      <td>D</td>\n",
       "      <td>20101007</td>\n",
       "      <td>0</td>\n",
       "      <td>199.85</td>\n",
       "      <td>204248</td>\n",
       "    </tr>\n",
       "  </tbody>\n",
       "</table>\n",
       "</div>"
      ],
      "text/plain": [
       "  <TICKER> <PER>    <DATE>  <TIME>  <CLOSE>   <VOL>\n",
       "0     MVID     D  20101001       0   194.38   19406\n",
       "1     MVID     D  20101004       0   190.00   31039\n",
       "2     MVID     D  20101005       0   187.00   17651\n",
       "3     MVID     D  20101006       0   190.04   36482\n",
       "4     MVID     D  20101007       0   199.85  204248"
      ]
     },
     "execution_count": 4,
     "metadata": {},
     "output_type": "execute_result"
    }
   ],
   "source": [
    "mvid.head()"
   ]
  },
  {
   "cell_type": "code",
   "execution_count": 5,
   "metadata": {
    "pycharm": {
     "name": "#%%\n"
    }
   },
   "outputs": [
    {
     "data": {
      "text/html": [
       "<div>\n",
       "<style scoped>\n",
       "    .dataframe tbody tr th:only-of-type {\n",
       "        vertical-align: middle;\n",
       "    }\n",
       "\n",
       "    .dataframe tbody tr th {\n",
       "        vertical-align: top;\n",
       "    }\n",
       "\n",
       "    .dataframe thead th {\n",
       "        text-align: right;\n",
       "    }\n",
       "</style>\n",
       "<table border=\"1\" class=\"dataframe\">\n",
       "  <thead>\n",
       "    <tr style=\"text-align: right;\">\n",
       "      <th></th>\n",
       "      <th>&lt;TICKER&gt;</th>\n",
       "      <th>&lt;PER&gt;</th>\n",
       "      <th>&lt;DATE&gt;</th>\n",
       "      <th>&lt;TIME&gt;</th>\n",
       "      <th>&lt;CLOSE&gt;</th>\n",
       "      <th>&lt;VOL&gt;</th>\n",
       "    </tr>\n",
       "  </thead>\n",
       "  <tbody>\n",
       "    <tr>\n",
       "      <th>0</th>\n",
       "      <td>YNDX</td>\n",
       "      <td>D</td>\n",
       "      <td>20140604</td>\n",
       "      <td>0</td>\n",
       "      <td>1170.0</td>\n",
       "      <td>35146</td>\n",
       "    </tr>\n",
       "    <tr>\n",
       "      <th>1</th>\n",
       "      <td>YNDX</td>\n",
       "      <td>D</td>\n",
       "      <td>20140605</td>\n",
       "      <td>0</td>\n",
       "      <td>1145.1</td>\n",
       "      <td>24973</td>\n",
       "    </tr>\n",
       "    <tr>\n",
       "      <th>2</th>\n",
       "      <td>YNDX</td>\n",
       "      <td>D</td>\n",
       "      <td>20140606</td>\n",
       "      <td>0</td>\n",
       "      <td>1163.0</td>\n",
       "      <td>7889</td>\n",
       "    </tr>\n",
       "    <tr>\n",
       "      <th>3</th>\n",
       "      <td>YNDX</td>\n",
       "      <td>D</td>\n",
       "      <td>20140609</td>\n",
       "      <td>0</td>\n",
       "      <td>1172.1</td>\n",
       "      <td>7304</td>\n",
       "    </tr>\n",
       "    <tr>\n",
       "      <th>4</th>\n",
       "      <td>YNDX</td>\n",
       "      <td>D</td>\n",
       "      <td>20140610</td>\n",
       "      <td>0</td>\n",
       "      <td>1170.0</td>\n",
       "      <td>3207</td>\n",
       "    </tr>\n",
       "  </tbody>\n",
       "</table>\n",
       "</div>"
      ],
      "text/plain": [
       "  <TICKER> <PER>    <DATE>  <TIME>  <CLOSE>  <VOL>\n",
       "0     YNDX     D  20140604       0   1170.0  35146\n",
       "1     YNDX     D  20140605       0   1145.1  24973\n",
       "2     YNDX     D  20140606       0   1163.0   7889\n",
       "3     YNDX     D  20140609       0   1172.1   7304\n",
       "4     YNDX     D  20140610       0   1170.0   3207"
      ]
     },
     "execution_count": 5,
     "metadata": {},
     "output_type": "execute_result"
    }
   ],
   "source": [
    "yndx.head()"
   ]
  },
  {
   "cell_type": "code",
   "execution_count": 6,
   "metadata": {
    "pycharm": {
     "name": "#%%\n"
    }
   },
   "outputs": [
    {
     "data": {
      "text/plain": [
       "<TICKER>    0\n",
       "<PER>       0\n",
       "<DATE>      0\n",
       "<TIME>      0\n",
       "<CLOSE>     0\n",
       "<VOL>       0\n",
       "dtype: int64"
      ]
     },
     "execution_count": 6,
     "metadata": {},
     "output_type": "execute_result"
    }
   ],
   "source": [
    "sber.isna().sum()"
   ]
  },
  {
   "cell_type": "code",
   "execution_count": 7,
   "metadata": {
    "pycharm": {
     "name": "#%%\n"
    }
   },
   "outputs": [
    {
     "data": {
      "text/plain": [
       "<TICKER>    0\n",
       "<PER>       0\n",
       "<DATE>      0\n",
       "<TIME>      0\n",
       "<CLOSE>     0\n",
       "<VOL>       0\n",
       "dtype: int64"
      ]
     },
     "execution_count": 7,
     "metadata": {},
     "output_type": "execute_result"
    }
   ],
   "source": [
    "mvid.isna().sum()"
   ]
  },
  {
   "cell_type": "code",
   "execution_count": 8,
   "metadata": {
    "pycharm": {
     "name": "#%%\n"
    }
   },
   "outputs": [
    {
     "data": {
      "text/plain": [
       "<TICKER>    0\n",
       "<PER>       0\n",
       "<DATE>      0\n",
       "<TIME>      0\n",
       "<CLOSE>     0\n",
       "<VOL>       0\n",
       "dtype: int64"
      ]
     },
     "execution_count": 8,
     "metadata": {},
     "output_type": "execute_result"
    }
   ],
   "source": [
    "yndx.isna().sum()"
   ]
  },
  {
   "cell_type": "code",
   "execution_count": 9,
   "metadata": {
    "pycharm": {
     "name": "#%%\n"
    }
   },
   "outputs": [],
   "source": [
    "data = sber.merge(mvid, on=\"<DATE>\").merge(yndx, on=\"<DATE>\")"
   ]
  },
  {
   "cell_type": "code",
   "execution_count": 10,
   "metadata": {
    "pycharm": {
     "name": "#%%\n"
    }
   },
   "outputs": [
    {
     "data": {
      "text/plain": [
       "(838, 16)"
      ]
     },
     "execution_count": 10,
     "metadata": {},
     "output_type": "execute_result"
    }
   ],
   "source": [
    "data.shape"
   ]
  },
  {
   "cell_type": "code",
   "execution_count": 11,
   "metadata": {
    "pycharm": {
     "name": "#%%\n"
    }
   },
   "outputs": [
    {
     "data": {
      "text/html": [
       "<div>\n",
       "<style scoped>\n",
       "    .dataframe tbody tr th:only-of-type {\n",
       "        vertical-align: middle;\n",
       "    }\n",
       "\n",
       "    .dataframe tbody tr th {\n",
       "        vertical-align: top;\n",
       "    }\n",
       "\n",
       "    .dataframe thead th {\n",
       "        text-align: right;\n",
       "    }\n",
       "</style>\n",
       "<table border=\"1\" class=\"dataframe\">\n",
       "  <thead>\n",
       "    <tr style=\"text-align: right;\">\n",
       "      <th></th>\n",
       "      <th>&lt;TICKER&gt;_x</th>\n",
       "      <th>&lt;PER&gt;_x</th>\n",
       "      <th>&lt;DATE&gt;</th>\n",
       "      <th>&lt;TIME&gt;_x</th>\n",
       "      <th>&lt;CLOSE&gt;_x</th>\n",
       "      <th>&lt;VOL&gt;_x</th>\n",
       "      <th>&lt;TICKER&gt;_y</th>\n",
       "      <th>&lt;PER&gt;_y</th>\n",
       "      <th>&lt;TIME&gt;_y</th>\n",
       "      <th>&lt;CLOSE&gt;_y</th>\n",
       "      <th>&lt;VOL&gt;_y</th>\n",
       "      <th>&lt;TICKER&gt;</th>\n",
       "      <th>&lt;PER&gt;</th>\n",
       "      <th>&lt;TIME&gt;</th>\n",
       "      <th>&lt;CLOSE&gt;</th>\n",
       "      <th>&lt;VOL&gt;</th>\n",
       "    </tr>\n",
       "  </thead>\n",
       "  <tbody>\n",
       "    <tr>\n",
       "      <th>0</th>\n",
       "      <td>SBER</td>\n",
       "      <td>D</td>\n",
       "      <td>20140604</td>\n",
       "      <td>0</td>\n",
       "      <td>87.81</td>\n",
       "      <td>118784670</td>\n",
       "      <td>MVID</td>\n",
       "      <td>D</td>\n",
       "      <td>0</td>\n",
       "      <td>260.02</td>\n",
       "      <td>99820</td>\n",
       "      <td>YNDX</td>\n",
       "      <td>D</td>\n",
       "      <td>0</td>\n",
       "      <td>1170.0</td>\n",
       "      <td>35146</td>\n",
       "    </tr>\n",
       "    <tr>\n",
       "      <th>1</th>\n",
       "      <td>SBER</td>\n",
       "      <td>D</td>\n",
       "      <td>20140605</td>\n",
       "      <td>0</td>\n",
       "      <td>87.43</td>\n",
       "      <td>136633680</td>\n",
       "      <td>MVID</td>\n",
       "      <td>D</td>\n",
       "      <td>0</td>\n",
       "      <td>259.81</td>\n",
       "      <td>84590</td>\n",
       "      <td>YNDX</td>\n",
       "      <td>D</td>\n",
       "      <td>0</td>\n",
       "      <td>1145.1</td>\n",
       "      <td>24973</td>\n",
       "    </tr>\n",
       "    <tr>\n",
       "      <th>2</th>\n",
       "      <td>SBER</td>\n",
       "      <td>D</td>\n",
       "      <td>20140606</td>\n",
       "      <td>0</td>\n",
       "      <td>89.00</td>\n",
       "      <td>127884670</td>\n",
       "      <td>MVID</td>\n",
       "      <td>D</td>\n",
       "      <td>0</td>\n",
       "      <td>258.99</td>\n",
       "      <td>99700</td>\n",
       "      <td>YNDX</td>\n",
       "      <td>D</td>\n",
       "      <td>0</td>\n",
       "      <td>1163.0</td>\n",
       "      <td>7889</td>\n",
       "    </tr>\n",
       "    <tr>\n",
       "      <th>3</th>\n",
       "      <td>SBER</td>\n",
       "      <td>D</td>\n",
       "      <td>20140609</td>\n",
       "      <td>0</td>\n",
       "      <td>88.89</td>\n",
       "      <td>84744280</td>\n",
       "      <td>MVID</td>\n",
       "      <td>D</td>\n",
       "      <td>0</td>\n",
       "      <td>254.45</td>\n",
       "      <td>63820</td>\n",
       "      <td>YNDX</td>\n",
       "      <td>D</td>\n",
       "      <td>0</td>\n",
       "      <td>1172.1</td>\n",
       "      <td>7304</td>\n",
       "    </tr>\n",
       "    <tr>\n",
       "      <th>4</th>\n",
       "      <td>SBER</td>\n",
       "      <td>D</td>\n",
       "      <td>20140610</td>\n",
       "      <td>0</td>\n",
       "      <td>88.99</td>\n",
       "      <td>85841300</td>\n",
       "      <td>MVID</td>\n",
       "      <td>D</td>\n",
       "      <td>0</td>\n",
       "      <td>256.00</td>\n",
       "      <td>72120</td>\n",
       "      <td>YNDX</td>\n",
       "      <td>D</td>\n",
       "      <td>0</td>\n",
       "      <td>1170.0</td>\n",
       "      <td>3207</td>\n",
       "    </tr>\n",
       "  </tbody>\n",
       "</table>\n",
       "</div>"
      ],
      "text/plain": [
       "  <TICKER>_x <PER>_x    <DATE>  <TIME>_x  <CLOSE>_x    <VOL>_x <TICKER>_y  \\\n",
       "0       SBER       D  20140604         0      87.81  118784670       MVID   \n",
       "1       SBER       D  20140605         0      87.43  136633680       MVID   \n",
       "2       SBER       D  20140606         0      89.00  127884670       MVID   \n",
       "3       SBER       D  20140609         0      88.89   84744280       MVID   \n",
       "4       SBER       D  20140610         0      88.99   85841300       MVID   \n",
       "\n",
       "  <PER>_y  <TIME>_y  <CLOSE>_y  <VOL>_y <TICKER> <PER>  <TIME>  <CLOSE>  <VOL>  \n",
       "0       D         0     260.02    99820     YNDX     D       0   1170.0  35146  \n",
       "1       D         0     259.81    84590     YNDX     D       0   1145.1  24973  \n",
       "2       D         0     258.99    99700     YNDX     D       0   1163.0   7889  \n",
       "3       D         0     254.45    63820     YNDX     D       0   1172.1   7304  \n",
       "4       D         0     256.00    72120     YNDX     D       0   1170.0   3207  "
      ]
     },
     "execution_count": 11,
     "metadata": {},
     "output_type": "execute_result"
    }
   ],
   "source": [
    "data.head()"
   ]
  },
  {
   "cell_type": "code",
   "execution_count": 12,
   "metadata": {
    "pycharm": {
     "name": "#%%\n"
    }
   },
   "outputs": [],
   "source": [
    "Y_sber = data[\"<CLOSE>_x\"]\n",
    "Y_mvid = data[\"<CLOSE>_y\"]\n",
    "Y_yndx = data[\"<CLOSE>_y\"]"
   ]
  },
  {
   "cell_type": "code",
   "execution_count": 13,
   "metadata": {
    "pycharm": {
     "name": "#%%\n"
    }
   },
   "outputs": [],
   "source": [
    "X_sber = sber.drop(\"<CLOSE>\", axis=1)\n",
    "X_mvid = mvid.drop(\"<CLOSE>\", axis=1)\n",
    "X_yndx = yndx.drop(\"<CLOSE>\", axis=1)"
   ]
  },
  {
   "cell_type": "code",
   "execution_count": 14,
   "metadata": {
    "pycharm": {
     "name": "#%%\n"
    }
   },
   "outputs": [
    {
     "data": {
      "text/html": [
       "<div>\n",
       "<style scoped>\n",
       "    .dataframe tbody tr th:only-of-type {\n",
       "        vertical-align: middle;\n",
       "    }\n",
       "\n",
       "    .dataframe tbody tr th {\n",
       "        vertical-align: top;\n",
       "    }\n",
       "\n",
       "    .dataframe thead th {\n",
       "        text-align: right;\n",
       "    }\n",
       "</style>\n",
       "<table border=\"1\" class=\"dataframe\">\n",
       "  <thead>\n",
       "    <tr style=\"text-align: right;\">\n",
       "      <th></th>\n",
       "      <th>&lt;TICKER&gt;</th>\n",
       "      <th>&lt;PER&gt;</th>\n",
       "      <th>&lt;DATE&gt;</th>\n",
       "      <th>&lt;TIME&gt;</th>\n",
       "      <th>&lt;VOL&gt;</th>\n",
       "    </tr>\n",
       "  </thead>\n",
       "  <tbody>\n",
       "    <tr>\n",
       "      <th>0</th>\n",
       "      <td>SBER</td>\n",
       "      <td>D</td>\n",
       "      <td>20101001</td>\n",
       "      <td>0</td>\n",
       "      <td>332429890</td>\n",
       "    </tr>\n",
       "    <tr>\n",
       "      <th>1</th>\n",
       "      <td>SBER</td>\n",
       "      <td>D</td>\n",
       "      <td>20101004</td>\n",
       "      <td>0</td>\n",
       "      <td>194032721</td>\n",
       "    </tr>\n",
       "    <tr>\n",
       "      <th>2</th>\n",
       "      <td>SBER</td>\n",
       "      <td>D</td>\n",
       "      <td>20101005</td>\n",
       "      <td>0</td>\n",
       "      <td>198775753</td>\n",
       "    </tr>\n",
       "    <tr>\n",
       "      <th>3</th>\n",
       "      <td>SBER</td>\n",
       "      <td>D</td>\n",
       "      <td>20101006</td>\n",
       "      <td>0</td>\n",
       "      <td>210406027</td>\n",
       "    </tr>\n",
       "    <tr>\n",
       "      <th>4</th>\n",
       "      <td>SBER</td>\n",
       "      <td>D</td>\n",
       "      <td>20101007</td>\n",
       "      <td>0</td>\n",
       "      <td>145137617</td>\n",
       "    </tr>\n",
       "  </tbody>\n",
       "</table>\n",
       "</div>"
      ],
      "text/plain": [
       "  <TICKER> <PER>    <DATE>  <TIME>      <VOL>\n",
       "0     SBER     D  20101001       0  332429890\n",
       "1     SBER     D  20101004       0  194032721\n",
       "2     SBER     D  20101005       0  198775753\n",
       "3     SBER     D  20101006       0  210406027\n",
       "4     SBER     D  20101007       0  145137617"
      ]
     },
     "execution_count": 14,
     "metadata": {},
     "output_type": "execute_result"
    }
   ],
   "source": [
    "X_sber.head()\n",
    "# X_mvid.head()"
   ]
  },
  {
   "cell_type": "code",
   "execution_count": 15,
   "metadata": {
    "pycharm": {
     "name": "#%%\n"
    }
   },
   "outputs": [],
   "source": [
    "\n",
    "class RegressionSample(metaclass=ABCMeta):\n",
    "    @staticmethod\n",
    "    def get_sample(X: pd.Series, y: pd.Series) -> Tuple[pd.Series, pd.Series]:\n",
    "        pass\n",
    "\n",
    "\n",
    "class RegressionRandomSample(RegressionSample):\n",
    "    @staticmethod\n",
    "    def get_sample(X: pd.Series, y: pd.Series) -> Tuple[pd.Series, pd.Series]:\n",
    "        f = random.randrange(0, len(X))\n",
    "        r = random.randrange(f, len(X))\n",
    "        return X[f:r], y[f:r]\n",
    "\n",
    "\n",
    "class Regression:\n",
    "    def __init__(self, sample: Union[RegressionSample, None] = None):\n",
    "        self.b0 = 0\n",
    "        self.b1 = 0\n",
    "        self.__max = 0\n",
    "        self.__min = 0\n",
    "        self.sample = sample\n",
    "\n",
    "    def predict(self, X: Union[np.ndarray, pd.Series]) -> Union[np.ndarray, pd.Series]:\n",
    "        return self.b0 + self.b1 * ((X - self.__min) / (self.__max - self.__min))\n",
    "\n",
    "    def error(self, X: pd.Series, y: pd.Series) -> int:\n",
    "        return sum((self.predict(X) - y) ** 2) / (2 * len(X))\n",
    "\n",
    "    def fit(self, X: pd.Series, y: pd.Series) -> Tuple[range, List[int]]:\n",
    "        if self.sample is not None:\n",
    "            X, y = self.sample.get_sample(X, y)\n",
    "        alpha = 0.1\n",
    "        errors, steps = [], range(898)\n",
    "        for step in steps:\n",
    "            self.__max = np.max(X)\n",
    "            self.__min = np.min(X)\n",
    "\n",
    "            dJ0 = sum(self.predict(X) - y) / len(X)\n",
    "            dJ1 = sum(\n",
    "                (self.predict(X) - y) * ((X - self.__min) / (self.__max - self.__min))\n",
    "            ) / len(X)\n",
    "\n",
    "            self.b0 = self.b0 - alpha * dJ0\n",
    "            self.b1 = self.b1 - alpha * dJ1\n",
    "\n",
    "            errors.append(self.error(X, y))\n",
    "\n",
    "            if step != 0 and errors[-2] < (errors[-1] - 2):\n",
    "                alpha = alpha * 0.1\n",
    "        return steps, errors\n"
   ]
  },
  {
   "cell_type": "markdown",
   "metadata": {},
   "source": [
    "# SBER x MVID\n",
    "Используется случайный кусок данных для обучения RegressionRandomSample()"
   ]
  },
  {
   "cell_type": "code",
   "execution_count": 16,
   "metadata": {
    "pycharm": {
     "name": "#%%\n"
    }
   },
   "outputs": [
    {
     "data": {
      "text/plain": [
       "0      224.420161\n",
       "1      223.686574\n",
       "2      226.717448\n",
       "3      226.505094\n",
       "4      226.698143\n",
       "          ...    \n",
       "833    426.600697\n",
       "834    428.840069\n",
       "835    425.481011\n",
       "836    426.195293\n",
       "837    427.488724\n",
       "Name: <CLOSE>_x, Length: 838, dtype: float64"
      ]
     },
     "execution_count": 16,
     "metadata": {},
     "output_type": "execute_result"
    }
   ],
   "source": [
    "model = Regression(sample=RegressionRandomSample())\n",
    "steps, errors = model.fit(Y_sber, Y_mvid)\n",
    "model.predict(Y_sber)"
   ]
  },
  {
   "cell_type": "code",
   "execution_count": 17,
   "metadata": {
    "pycharm": {
     "name": "#%%\n"
    }
   },
   "outputs": [
    {
     "data": {
      "image/png": "[encoded data removed]",
      "text/plain": [
       "<Figure size 432x288 with 1 Axes>"
      ]
     },
     "metadata": {
      "needs_background": "light"
     },
     "output_type": "display_data"
    }
   ],
   "source": [
    "X0 = np.linspace(60, 200, 100)\n",
    "Y0 = model.predict(X0)\n",
    "\n",
    "plt.figure()\n",
    "plt.scatter(Y_sber, Y_mvid)\n",
    "plt.plot(X0, Y0, \"r\")\n",
    "plt.show()"
   ]
  },
  {
   "cell_type": "code",
   "execution_count": 18,
   "metadata": {
    "pycharm": {
     "name": "#%%\n"
    }
   },
   "outputs": [
    {
     "name": "stdout",
     "output_type": "stream",
     "text": [
      "model.error(Y_sber, Y_mvid)=200.2465751896314\n"
     ]
    }
   ],
   "source": [
    "print(f\"{model.error(Y_sber, Y_mvid)=}\")"
   ]
  },
  {
   "cell_type": "code",
   "execution_count": 19,
   "metadata": {
    "pycharm": {
     "name": "#%%\n"
    }
   },
   "outputs": [
    {
     "data": {
      "image/png": "[encoded data removed]",
      "text/plain": [
       "<Figure size 432x288 with 1 Axes>"
      ]
     },
     "metadata": {
      "needs_background": "light"
     },
     "output_type": "display_data"
    }
   ],
   "source": [
    "plt.figure()\n",
    "plt.plot(steps, errors, \"r\")\n",
    "plt.show()\n"
   ]
  },
  {
   "cell_type": "markdown",
   "metadata": {},
   "source": [
    "# SBER x YNDX\n",
    "Используется случайный кусок данных для обучения RegressionRandomSample()"
   ]
  },
  {
   "cell_type": "code",
   "execution_count": 20,
   "metadata": {
    "pycharm": {
     "name": "#%%\n"
    }
   },
   "outputs": [
    {
     "data": {
      "text/plain": [
       "0      230.321632\n",
       "1      229.626015\n",
       "2      232.500012\n",
       "3      232.298649\n",
       "4      232.481706\n",
       "          ...    \n",
       "833    422.037347\n",
       "834    424.160810\n",
       "835    420.975616\n",
       "836    421.652927\n",
       "837    422.879410\n",
       "Name: <CLOSE>_x, Length: 838, dtype: float64"
      ]
     },
     "execution_count": 20,
     "metadata": {},
     "output_type": "execute_result"
    }
   ],
   "source": [
    "model = Regression(sample=RegressionRandomSample())\n",
    "steps, errors = model.fit(Y_sber, Y_yndx)\n",
    "model.predict(Y_sber)"
   ]
  },
  {
   "cell_type": "code",
   "execution_count": 21,
   "metadata": {
    "pycharm": {
     "name": "#%%\n"
    }
   },
   "outputs": [
    {
     "data": {
      "image/png": "[encoded data removed]",
      "text/plain": [
       "<Figure size 432x288 with 1 Axes>"
      ]
     },
     "metadata": {
      "needs_background": "light"
     },
     "output_type": "display_data"
    }
   ],
   "source": [
    "X0 = np.linspace(60, 200, 100)\n",
    "Y0 = model.predict(X0)\n",
    "\n",
    "plt.figure()\n",
    "plt.scatter(Y_sber, Y_yndx)\n",
    "plt.plot(X0, Y0, \"r\")\n",
    "plt.show()"
   ]
  },
  {
   "cell_type": "code",
   "execution_count": 22,
   "metadata": {
    "pycharm": {
     "name": "#%%\n"
    }
   },
   "outputs": [
    {
     "name": "stdout",
     "output_type": "stream",
     "text": [
      "model.error(Y_sber, Y_mvid)=214.0343535659201\n"
     ]
    }
   ],
   "source": [
    "print(f\"{model.error(Y_sber, Y_mvid)=}\")"
   ]
  },
  {
   "cell_type": "code",
   "execution_count": 23,
   "metadata": {
    "pycharm": {
     "name": "#%%\n"
    }
   },
   "outputs": [
    {
     "data": {
      "image/png": "[encoded data removed]",
      "text/plain": [
       "<Figure size 432x288 with 1 Axes>"
      ]
     },
     "metadata": {
      "needs_background": "light"
     },
     "output_type": "display_data"
    }
   ],
   "source": [
    "plt.figure()\n",
    "plt.plot(steps, errors, \"r\")\n",
    "plt.show()"
   ]
  },
  {
   "cell_type": "markdown",
   "metadata": {},
   "source": [
    "# sklearn\n",
    "Ошибки где то под капотом, по виду можно вытаскивать только предсказания"
   ]
  },
  {
   "cell_type": "code",
   "execution_count": 24,
   "metadata": {
    "pycharm": {
     "name": "#%%\n"
    }
   },
   "outputs": [
    {
     "name": "stdout",
     "output_type": "stream",
     "text": [
      "[576.36675275 575.94029457 574.2750769  565.05545713 568.20312467\n",
      " 573.56431326 586.47990395 582.8245481  596.63367022 605.97513518\n",
      " 604.35053258 597.44597152 596.61336269 592.57216371 594.86691489\n",
      " 590.21648994 596.47120996 590.54141046 594.5623019  567.18774805\n",
      " 565.46160778 569.70588208 568.4062     568.18281714 554.41431008\n",
      " 547.79405448 561.76563686 557.11521191 560.68933764 534.98000145\n",
      " 525.86191934 519.4650466  520.48042322 519.91181231 521.0896492\n",
      " 515.9112284  509.67681592 509.31128033 511.32172605 510.77342267\n",
      " 497.75629432 497.28922107 497.63444912 485.95761792 474.80878256\n",
      " 473.7730984  477.83460491 484.45486051 485.91700285 483.03333323\n",
      " 478.84998153 476.04754204 475.43831607 478.13921789 476.81922828\n",
      " 466.42177162 458.13629835 456.51169575 431.12728008 434.17340996\n",
      " 434.78263594 432.12234918 420.97351382 451.8612708  446.29700688\n",
      " 452.91726249 447.88099442 448.91667858 434.17340996 435.6964749\n",
      " 431.22881774 440.7530505  438.82383491 439.25029309 440.24536219\n",
      " 444.30686869 445.82993363 458.542449   470.88942878 470.72696852\n",
      " 456.51169575 450.03359287 456.51169575 457.32399705 454.27786717\n",
      " 452.85633989 452.04403859 451.02866196 448.59175806 448.38868273\n",
      " 438.43799179 428.0811502  431.73650606 424.831945   424.831945\n",
      " 434.17340996 434.17340996 427.87807488 417.52123328 434.57956061\n",
      " 430.51805411 463.61933213 462.60395551 462.60395551 465.44701006\n",
      " 478.64690621 484.94224129 482.70841271 486.76991922 476.81922828\n",
      " 478.03768023 476.81922828 481.28688544 479.25613218 479.25613218\n",
      " 478.84998153 481.28688544 484.94224129 484.12993999 482.91148804\n",
      " 484.73916597 485.55146727 487.3791452  486.56684389 482.91148804\n",
      " 473.16387242 461.99472953 456.51169575 470.93004384 471.53926982\n",
      " 462.60395551 456.71477107 455.49631912 435.59493724 426.05039695\n",
      " 353.75558113 312.32821477 320.45122778 322.48198103 311.92206412\n",
      " 318.01432388 316.99894725 308.87593424 298.112942   299.33139395\n",
      " 299.7375446  298.9252433  323.49735766 344.82026682 349.89714995\n",
      " 344.61719149 336.08802783 326.34041222 325.52811091 322.48198103\n",
      " 316.38972127 307.25133163 308.87593424 333.65112393 349.28792398\n",
      " 354.97403309 340.14953434 337.50955511 337.30647978 333.4480486\n",
      " 331.823446   335.88495251 336.69725381 340.35260966 357.00478634\n",
      " 367.1585526  371.22005911 374.87541497 373.86003834 385.02918123\n",
      " 392.13681762 403.30596051 407.77361767 417.52123328 403.71211116\n",
      " 399.65060466 395.9952488  386.45070851 386.24763319 386.04455786\n",
      " 414.67817873 416.70893198 405.74286442 412.8505008  411.63204885\n",
      " 399.85367998 398.02600205 402.08750856 397.6198514  392.13681762\n",
      " 390.10606437 381.37382538 377.5153942  382.59227733 382.79535265\n",
      " 391.52759164 411.2258982  419.95813719 412.0381995  433.76725931\n",
      " 440.26566972 448.38868273 444.32717623 444.73332688 446.35792948\n",
      " 446.35792948 434.17340996 433.56418399 424.831945   437.01646452\n",
      " 434.17340996 445.7487035  445.7487035  457.7301477  479.86535816\n",
      " 482.91148804 473.7730984  464.43163343 470.72696852 477.0223036\n",
      " 474.78847503 470.72696852 470.72696852 468.69621527 470.72696852\n",
      " 467.27468799 470.52389319 476.81922828 477.0223036  474.17924905\n",
      " 470.93004384 472.75772177 468.69621527 464.43163343 467.27468799\n",
      " 461.58857888 463.61933213 463.41625681 469.71159189 463.41625681\n",
      " 458.542449   460.1670516  458.33937367 448.59175806 447.37330611\n",
      " 444.32717623 444.32717623 444.32717623 442.70257362 443.10872428\n",
      " 455.09016847 467.47776331 479.25613218 480.88073479 483.92686467\n",
      " 485.55146727 489.20682312 488.80067247 488.1914465  436.20416321\n",
      " 435.18878659 430.72112943 431.12728008 431.93958138 430.51805411\n",
      " 424.62886967 424.831945   415.49048003 414.88125406 414.06895275\n",
      " 414.06895275 413.86587743 418.73968524 417.92738394 426.05039695\n",
      " 425.03502032 424.62886967 425.03502032 426.25347227 423.61349304\n",
      " 428.0811502  430.92420476 444.1241009  443.92102558 444.32717623\n",
      " 437.21953984 446.15485416 445.13947753 441.28104635 441.28104635\n",
      " 442.4994983  445.13947753 447.98253208 453.46556587 454.88709314\n",
      " 451.84096326 444.32717623 446.76408013 445.54562818 447.17023078\n",
      " 430.11190345 439.04721777 441.48412167 449.60713469 453.87171652\n",
      " 474.78847503 470.32081787 467.07161266 465.65008539 461.58857888\n",
      " 458.542449   457.52707237 456.51169575 456.51169575 459.15167498\n",
      " 456.1055451  460.57320225 458.13629835 454.48094249 455.09016847\n",
      " 460.57320225 454.48094249 450.82558664 453.05941522 456.1055451\n",
      " 454.48094249 457.32399705 465.65008539 469.30544124 472.55464645\n",
      " 466.05623604 469.50851657 472.9607971  474.5853997  468.08698929\n",
      " 468.29006462 472.75772177 472.55464645 470.72696852 476.61615295\n",
      " 471.74234515 469.30544124 464.43163343 471.94542047 486.97299454\n",
      " 496.11138418 498.95443874 505.65592447 506.87437643 510.73280761\n",
      " 512.35741021 542.81870901 536.3202986  533.07109339 549.31711942\n",
      " 544.84946226 545.86483889 542.00640771 527.58805961 536.72644925\n",
      " 546.06791421 547.08329084 545.86483889 548.50481812 559.67396101\n",
      " 559.67396101 561.70471426 561.50163894 560.89241296 542.61563368\n",
      " 562.92316622 571.85848053 592.16601306 599.88287542 592.16601306\n",
      " 580.99687017 577.34151431 572.26463118 550.94172202 547.89559214\n",
      " 583.43377407 570.64002858 579.98149354 606.38128583 588.51065721\n",
      " 591.55678709 581.19994549 572.26463118 568.20312467 568.20312467\n",
      " 569.42157663 593.58754034 597.44597152 603.74130661 606.58436116\n",
      " 566.98467272 556.62783113 565.9692961  561.50163894 559.87703634\n",
      " 558.04935841 565.9692961  565.76622077 557.44013243 553.1755506\n",
      " 552.97247527 546.27098954 548.91096877 556.01860515 576.12306236\n",
      " 571.04617923 581.80917147 574.29538443 586.27682863 587.49528058\n",
      " 580.99687017 577.74766496 562.51701556 555.6124545  536.3202986\n",
      " 526.97883363 530.22803884 533.07109339 534.28954534 541.80333238\n",
      " 538.55412718 540.58488043 543.83408564 541.39718173 537.53875055\n",
      " 539.97565445 539.77257913 542.81870901 545.25561291 545.86483889\n",
      " 551.95709865 557.84628308 563.93854284 568.4062     569.01542598\n",
      " 585.87067798 582.41839745 587.08912993 558.65858438 559.87703634\n",
      " 561.09548829 574.29538443 569.2185013  579.37226757 572.87385716\n",
      " 580.99687017 580.38764419 589.32295851 584.24607537 583.23069875\n",
      " 575.31076106 578.35689094 572.87385716 575.51383639 576.73228834\n",
      " 575.51383639 571.24925455 579.98149354 597.24289619 618.1596547\n",
      " 626.07959239 638.06103658 641.71639244 646.1840496  648.01172753\n",
      " 667.10080811 657.75934314 649.4332548  655.52551456 654.91628859\n",
      " 655.52551456 655.93166521 649.4332548  650.85478208 652.47938468\n",
      " 653.69783663 653.69783663 657.55626782 648.6209535  651.46400806\n",
      " 660.80547302 653.29168598 649.23017948 651.26093273 652.47938468\n",
      " 655.52551456 651.26093273 641.31024179 640.09178984 642.73176907\n",
      " 645.77789895 651.26093273 652.88553533 645.77789895 642.12254309\n",
      " 646.38712492 654.91628859 663.64852758 667.71003408 647.60557687\n",
      " 670.55308864 672.78691721 664.6639042  687.81449129 671.97461591\n",
      " 685.58066271 698.17133288 711.980455   661.00854835 656.13474054\n",
      " 657.15011716 650.85478208 644.35637167 633.18722878 630.54724955\n",
      " 637.04565996 659.58702107 663.64852758 647.40250155 654.10398728\n",
      " 664.46082888 691.06369649 687.81449129 687.81449129 687.81449129\n",
      " 683.75298478 689.84524454 702.02976406 716.44811216 701.21746276\n",
      " 696.7498056  690.86062117 689.03294324 702.02976406 698.98363418\n",
      " 695.9375043  696.34365495 708.32509915 724.57112517 748.94016421\n",
      " 748.53401356 748.94016421 757.06317722 757.06317722 747.11248628\n",
      " 772.69997727 757.87547852 759.70315645 789.14907862 755.03242397\n",
      " 748.94016421 752.59552007 751.58014344 762.74928633 773.30920325\n",
      " 778.79223703 793.21058513 797.88131761 799.70899554 795.44441371\n",
      " 759.70315645 783.86912017 794.63211241 781.83836691 773.7153539\n",
      " 759.09393048 748.94016421 763.15543698 761.73390971 744.0663564\n",
      " 735.33411741 726.19572777 729.03878233 741.83252782 745.69095901\n",
      " 754.01704734 776.1522578  779.40146301 777.37070976 764.37388893\n",
      " 751.78321876 746.50326031 733.70951481 728.63263168 728.42955635\n",
      " 740.41100055 743.86328108 748.94016421 748.94016421 746.90941096\n",
      " 780.41683964 777.16763443 763.15543698 745.08173303 739.39562392\n",
      " 738.17717197 735.53719274 741.22330185 724.57112517 726.3988031\n",
      " 717.26041346 711.77737968 732.69413818 734.72489144 725.5865018\n",
      " 735.33411741 769.04462142 745.69095901 761.93698503 771.07537467\n",
      " 799.50592022 803.77050205 809.86276181 811.89351506 812.29966571\n",
      " 791.17983188 805.8012553  789.14907862 803.77050205 797.67824229\n",
      " 798.69361891 806.20740595 797.88131761 786.10294874 790.77368123\n",
      " 794.22596176 851.4932035  835.24717747 840.32406061 840.12098528\n",
      " 834.23180085 820.62575405 824.48418523 834.02872552 830.17029434\n",
      " 839.5117593  826.92108913 825.70263718 835.24717747 837.0748554\n",
      " 831.18567097 821.0319047  812.70581636 812.90889169 809.05046051\n",
      " 806.81663193 807.83200855 805.8012553  797.67824229 798.08439294\n",
      " 799.91207087 805.8012553  804.78587867 807.83200855 815.14272027\n",
      " 829.15491771 822.85958263 826.51493848 824.2811099  830.17029434\n",
      " 826.10878783 817.57962417 807.22278258 801.73974879 807.83200855\n",
      " 803.77050205 803.77050205 798.69361891 801.73974879 802.75512542\n",
      " 802.75512542 799.70899554 802.34897477 799.50592022 799.70899554\n",
      " 799.91207087 806.6135566  804.58280335 807.4258579  807.83200855\n",
      " 811.08121376 822.04728133 819.20422677 822.04728133 835.4502528\n",
      " 824.07803458 831.99797227 831.18567097 832.40412292 834.02872552\n",
      " 829.96721901 826.10878783 822.25035665 826.10878783 822.04728133\n",
      " 821.64113068 814.93964494 819.00115145 812.90889169 800.72437217\n",
      " 810.67506311 806.41048128 804.37972802 806.81663193 807.83200855\n",
      " 809.86276181 810.67506311 806.20740595 807.01970725 805.39510465\n",
      " 819.00115145 818.18885015 817.17347352 817.17347352 816.97039819\n",
      " 815.95502157 815.14272027 811.28428908 817.57962417 814.33041896\n",
      " 823.67188393 824.48418523 825.09341121 824.89033588 826.10878783\n",
      " 829.15491771 829.35799304 830.98259564 829.15491771 828.74876706\n",
      " 830.37336966 833.01334889 835.04410215 833.82565019 834.23180085\n",
      " 833.82565019 834.02872552 834.84102682 835.04410215 835.4502528\n",
      " 834.23180085 835.4502528  837.68408138 837.48100605 837.8871567\n",
      " 837.48100605 838.699458   839.10560865 840.32406061 841.13636191\n",
      " 842.96403983 838.49638268 841.33943723 839.5117593  840.12098528\n",
      " 840.52713593 840.93328658 842.35481386 842.15173853 842.76096451\n",
      " 843.16711516 845.19786841 848.24399829 845.80709439 849.05629959\n",
      " 848.44707362 856.16393598 844.38556711 850.88397752 857.58546326\n",
      " 866.7238529  864.69309964 880.73605034 891.90519324 880.93912567\n",
      " 881.75142697 897.38822702 915.46193097 923.99109464 925.00647126\n",
      " 875.04994124 875.86224254 875.04994124 878.90837242 874.64379058\n",
      " 871.19151005 873.22226331 871.5976607  871.39458538 870.7853594\n",
      " 872.81611266 870.98843473 874.03456461 876.47146851 871.80073603\n",
      " 870.98843473 871.39458538 870.98843473 876.67454384 872.81611266\n",
      " 882.7668036  874.23763993 873.22226331 876.67454384 872.81611266\n",
      " 900.84050755 891.29596726 898.20052832 903.27741146 893.12364519\n",
      " 901.2466582  901.2466582  897.1851517  899.21590495 895.96669974\n",
      " 915.46193097 915.46193097 926.42799854 913.43117772 909.36967121\n",
      " 918.50806085 919.92958813 915.46193097 911.40042447 909.57274654\n",
      " 907.54199329 893.32672051 906.32354133]\n"
     ]
    }
   ],
   "source": [
    "from sklearn.linear_model import SGDRegressor\n",
    "from sklearn.pipeline import make_pipeline\n",
    "from sklearn.preprocessing import StandardScaler\n",
    "\n",
    "Y_sber_1 = data[\"<CLOSE>_x\"].values\n",
    "Y_mvid_1 = data[\"<CLOSE>_y\"].values\n",
    "reg = make_pipeline(StandardScaler(), SGDRegressor(max_iter=110, tol=1e-1))\n",
    "reg.fit(Y_sber_1.reshape(-1, 1), Y_mvid_1)\n",
    "answers = reg.predict(Y_mvid_1.reshape(-1, 1))\n",
    "print(answers)"
   ]
  }
 ],
 "metadata": {
  "kernelspec": {
   "display_name": "Python 3",
   "language": "python",
   "name": "python3"
  },
  "language_info": {
   "codemirror_mode": {
    "name": "ipython",
    "version": 3
   },
   "file_extension": ".py",
   "mimetype": "text/x-python",
   "name": "python",
   "nbconvert_exporter": "python",
   "pygments_lexer": "ipython3",
   "version": "3.8.3"
  }
 },
 "nbformat": 4,
 "nbformat_minor": 2
}
