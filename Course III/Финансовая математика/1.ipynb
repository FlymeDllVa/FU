{
 "cells": [
  {
   "cell_type": "code",
   "execution_count": 1,
   "metadata": {
    "pycharm": {
     "name": "#%%\n"
    }
   },
   "outputs": [],
   "source": [
    "import handcalcs\n",
    "import handcalcs.render\n",
    "# https://github.com/connorferster/handcalcs"
   ]
  },
  {
   "cell_type": "markdown",
   "metadata": {},
   "source": [
    "# Задача 2\n",
    "Вексель стоимость 100000 руб.\n",
    "  учитывается за 4 года до погашения по сложной учетной ставке 15\\% годовых\n",
    "  Найти сумму получаемую держателем и величину дисконта."
   ]
  },
  {
   "cell_type": "code",
   "execution_count": 2,
   "metadata": {
    "pycharm": {
     "name": "#%%\n"
    }
   },
   "outputs": [
    {
     "data": {
      "text/latex": [
       "\\[\n",
       "\\begin{aligned}\n",
       "S_{0} &= \\frac{ 100000 }{ \\left( 1 + 15 \\right) ^{ 4 } } = \\frac{ 100000 }{ \\left( 1 + 15 \\right) ^{ 4 } } &= 1.526\n",
       "\\end{aligned}\n",
       "\\]"
      ],
      "text/plain": [
       "<IPython.core.display.Latex object>"
      ]
     },
     "metadata": {},
     "output_type": "display_data"
    }
   ],
   "source": [
    "%%render \n",
    "S_0 = (100000)/((1+15)**4)\n"
   ]
  },
  {
   "cell_type": "markdown",
   "metadata": {},
   "source": [
    "Вывод формулы\n",
    "$$ S_4 = S_0 - I $$\n",
    "$$ S_4 = S_0 - S_0 \\cdot 0,15 * 4 = S_0(1 - 0,15 \\cdot 4) $$\n",
    "$$ S_4 = S_0(1-0,15)^4 $$"
   ]
  },
  {
   "cell_type": "code",
   "execution_count": 3,
   "metadata": {
    "pycharm": {
     "name": "#%%\n"
    }
   },
   "outputs": [
    {
     "data": {
      "text/latex": [
       "\\[\n",
       "\\begin{aligned}\n",
       "S_{4} &= 100000 \\cdot \\left( 1 - 0.15 \\right) ^{ 4 } = 100000 \\cdot \\left( 1 - 0.15 \\right) ^{ 4 } &= 52200.625\n",
       "\\end{aligned}\n",
       "\\]"
      ],
      "text/plain": [
       "<IPython.core.display.Latex object>"
      ]
     },
     "metadata": {},
     "output_type": "display_data"
    }
   ],
   "source": [
    "%%render\n",
    "S_4 = 100000 * (1 - 0.15)**4"
   ]
  },
  {
   "cell_type": "markdown",
   "metadata": {},
   "source": [
    "# Задача 3\n",
    "Банк учитывает вексель по номинальной учетной ставке 10% с ежемесячным начислением процентво.\n",
    "Найти сложную учетную ставку при которой доход банка не изменился"
   ]
  },
  {
   "cell_type": "markdown",
   "metadata": {},
   "source": [
    "$$ \\dfrac{10\\%}{12}=0.83\\% - ежемесячно $$ \n",
    "$$ (1 - 0.83\\%)^{12} = (1 - r_f) $$"
   ]
  },
  {
   "cell_type": "code",
   "execution_count": 4,
   "metadata": {},
   "outputs": [
    {
     "data": {
      "text/latex": [
       "\\[\n",
       "\\begin{aligned}\n",
       "r_{f} &= 1 - \\left( 0.0083 \\right) ^{ 12 } = 1 - \\left( 0.0083 \\right) ^{ 12 } &= 1.0\n",
       "\\end{aligned}\n",
       "\\]"
      ],
      "text/plain": [
       "<IPython.core.display.Latex object>"
      ]
     },
     "metadata": {},
     "output_type": "display_data"
    }
   ],
   "source": [
    "%%render\n",
    "r_f = 1 - (0.0083)**12"
   ]
  },
  {
   "cell_type": "markdown",
   "metadata": {},
   "source": [
    "$$ r_f = 1 - (0.0083)^{12} = 0,0951 = 9.5\\% $$"
   ]
  },
  {
   "cell_type": "markdown",
   "metadata": {},
   "source": [
    "# Задача 4\n",
    "3 платежа в размере:\n",
    "    15 тыс.,\n",
    "    26 тыс.,\n",
    "    45 тыс.\n",
    "Произведенные в начале:\n",
    "    В начале 3,\n",
    "    В начале  4,\n",
    "    В конце 5\n",
    "Переодов\n",
    "Заменить эквивалентным в размере 90000\n",
    "Годовая ставка сложных процентво равна 15%"
   ]
  },
  {
   "cell_type": "markdown",
   "metadata": {},
   "source": [
    "$$ 15000 + 26000 * (1 + 15\\%)^{-1} + 45000 * (1 + 15\\%)^{-3} = 106040.01 $$"
   ]
  },
  {
   "cell_type": "code",
   "execution_count": 5,
   "metadata": {},
   "outputs": [
    {
     "data": {
      "text/latex": [
       "\\[\n",
       "\\begin{aligned}\n",
       "D &= 15000 + 26000 \\cdot \\left( 1 + 0.15 \\right) ^{ \\left( - 1 \\right) } + 45000 \\cdot \\left( 1 + 0.15 \\right) ^{ \\left( - 3 \\right) } \\\\&= 15000 + 26000 \\cdot \\left( 1 + 0.15 \\right) ^{ \\left( - 1 \\right) } + 45000 \\cdot \\left( 1 + 0.15 \\right) ^{ \\left( - 3 \\right) } \\\\&= 67196.926\\\\\n",
       "\\\\[10pt]\n",
       "ln &= 90000\\;\n",
       "\\end{aligned}\n",
       "\\]"
      ],
      "text/plain": [
       "<IPython.core.display.Latex object>"
      ]
     },
     "metadata": {},
     "output_type": "display_data"
    }
   ],
   "source": [
    "%%render\n",
    "D = 15000 + 26000 * (1 + 0.15)**(-1) + 45000 * (1 + 0.15)**(-3)\n",
    "ln = 90000"
   ]
  },
  {
   "cell_type": "markdown",
   "metadata": {},
   "source": [
    "$$ \\ln{9000} * 1.15^x = ln{106040.1}  $$\n",
    "$$ \\ln{30000} * 1.15^x = ln{106040.1}  $$\n",
    "\n",
    "$$ x=\\ln{\\dfrac{({\\dfrac{106040.1}{130000})}{\\ln{1.15}} $$"
   ]
  },
  {
   "cell_type": "markdown",
   "metadata": {},
   "source": [
    "# Задача 5\n",
    "2 платежа в размере 32 тыс и 43 тыс произведенные в начале 4 переода и в конце 5 периода.\n",
    "\n",
    "\n",
    "Заменить 2-мя платежами в конце 7 и 8 периодов.\n",
    "\n",
    "\n",
    "1-ый платеж на 17% меньше 2-го\n",
    "\n",
    "\n",
    "Годовая ставка = 14%, простые проценты"
   ]
  },
  {
   "cell_type": "code",
   "execution_count": 6,
   "metadata": {
    "scrolled": true
   },
   "outputs": [
    {
     "data": {
      "text/plain": [
       "0.1989"
      ]
     },
     "execution_count": 6,
     "metadata": {},
     "output_type": "execute_result"
    }
   ],
   "source": [
    "17/100*1.17"
   ]
  },
  {
   "cell_type": "code",
   "execution_count": 7,
   "metadata": {},
   "outputs": [
    {
     "data": {
      "text/latex": [
       "\\[\n",
       "\\begin{aligned}\n",
       "D &= 32000 \\cdot \\left( 1 + 0.14 \\cdot 5 \\right) + 43000 \\cdot \\left( 1 + 0.14 \\cdot 4 \\right) \\\\&= 32000 \\cdot \\left( 1 + 0.14 \\cdot 5 \\right) + 43000 \\cdot \\left( 1 + 0.14 \\cdot 4 \\right) \\\\&= 121480.0\\\\\n",
       "\\end{aligned}\n",
       "\\]"
      ],
      "text/plain": [
       "<IPython.core.display.Latex object>"
      ]
     },
     "metadata": {},
     "output_type": "display_data"
    }
   ],
   "source": [
    "%%render\n",
    "D = 32000 * (1 + 0.14 * 5) + 43000 * (1 + 0.14 * 4)"
   ]
  },
  {
   "cell_type": "markdown",
   "metadata": {},
   "source": [
    "$$ 121480.0 = x + 0.83x * 1.14 $$\n",
    "$$ x = 62410.1 $$"
   ]
  },
  {
   "cell_type": "markdown",
   "metadata": {},
   "source": [
    "# Задача 6\n",
    "При какой процентной ставке сумма увеличится если проценты начисляются ежеквартально"
   ]
  },
  {
   "cell_type": "markdown",
   "metadata": {},
   "source": [
    "$$ S - сумма $$\n",
    "$$ r\\% - 2 $$\n",
    "\n",
    "\n",
    "$$ S * (1 + \\dfrac{r}{4})^{40} = 3S $$\n",
    "$$ (1 + \\dfrac{r}{4})^{40} = 3 $$"
   ]
  },
  {
   "cell_type": "code",
   "execution_count": 8,
   "metadata": {},
   "outputs": [
    {
     "data": {
      "text/latex": [
       "\\[\n",
       "\\begin{aligned}\n",
       "r &= 4 \\cdot \\left( \\left( 3 \\right) ^{ \\left( \\frac{ 1 }{ 40 } \\right) } - 1 \\right) = 4 \\cdot \\left( \\left( 3 \\right) ^{ \\left( \\frac{ 1 }{ 40 } \\right) } - 1 \\right) &= 0.111\n",
       "\\end{aligned}\n",
       "\\]"
      ],
      "text/plain": [
       "<IPython.core.display.Latex object>"
      ]
     },
     "metadata": {},
     "output_type": "display_data"
    }
   ],
   "source": [
    "%%render\n",
    "r = 4 * (3**(1/40) - 1)"
   ]
  },
  {
   "cell_type": "markdown",
   "metadata": {},
   "source": [
    "# Задача 7\n",
    "Какую ставку должен установить банк, что бы при инфляции $8\\%$ годовых он бы продолжал иметь доходность $10\\%$"
   ]
  },
  {
   "cell_type": "markdown",
   "metadata": {},
   "source": [
    "${\\displaystyle i=r+\\pi }$\n",
    "\n",
    "\n",
    "где i — номинальная ставка процента; \n",
    "\n",
    "\n",
    "r — реальная ставка процента; \n",
    "\n",
    "\n",
    "π -  темп инфляции.\n"
   ]
  },
  {
   "cell_type": "code",
   "execution_count": 9,
   "metadata": {},
   "outputs": [
    {
     "data": {
      "text/latex": [
       "\\[\n",
       "\\begin{aligned}\n",
       "i_{a} &= 0.1 + 0.8 = 0.1 + 0.8 &= 0.019\n",
       "\\\\[10pt]\n",
       "i_{a} &= \\frac{ 0.1 \\cdot 0.8 }{ 1 + 0.8 } = \\frac{ 0.1 \\cdot 0.8 }{ 1 + 0.8 } &= 0.019\n",
       "\\\\[10pt]\n",
       "i_{a} &= 0.019\\;\n",
       "\\end{aligned}\n",
       "\\]"
      ],
      "text/plain": [
       "<IPython.core.display.Latex object>"
      ]
     },
     "metadata": {},
     "output_type": "display_data"
    }
   ],
   "source": [
    "%%render\n",
    "i_a = 0.1 + 0.8\n",
    "i_a = (0.1 * 0.8)/(1 + 0.8)\n",
    "i_a = 0.018519\n"
   ]
  },
  {
   "cell_type": "markdown",
   "metadata": {},
   "source": [
    "# Задача 8\n",
    "Какой реальный доход вкладчика, если на депозит положено 450 тыс., на 5 лет под 14% годовых с ежемесячным начислением процентов при квартальной инфляции, которая состовляет в среднем 2%"
   ]
  },
  {
   "cell_type": "markdown",
   "metadata": {},
   "source": [
    "$$ 1 + i_{эф} = \\dfrac{1 + 0.14}{12}^{12} $$\n",
    "$$ i_{эф} = 0.1493 $$\n",
    "$$ (1 + 0.02)^4 - 1 = 0.08243216 $$"
   ]
  },
  {
   "cell_type": "code",
   "execution_count": 10,
   "metadata": {},
   "outputs": [
    {
     "data": {
      "text/latex": [
       "\\[\n",
       "\\begin{aligned}\n",
       "d &= \\left( 1 + 0.02 \\right) ^{ 4 } - 1 = \\left( 1 + 0.02 \\right) ^{ 4 } - 1 &= 0.082\n",
       "\\end{aligned}\n",
       "\\]"
      ],
      "text/plain": [
       "<IPython.core.display.Latex object>"
      ]
     },
     "metadata": {},
     "output_type": "display_data"
    }
   ],
   "source": [
    "%%render\n",
    "d = (1 + 0.02)**4 - 1"
   ]
  },
  {
   "cell_type": "markdown",
   "metadata": {},
   "source": [
    "$$ i_{эф} = 0.1493 $$\n",
    "$$ i_{эф} = \\dfrac{14.93 - 8.24\\%}{1 +8.24\\%} = 0.061807 $$\n",
    "$$ S_n = S_0 (1 + t)^n $$\n",
    "$$ S_5 = 450 * (1+0.061807)^5 = 607.35195581579246519208905661315 $$"
   ]
  },
  {
   "cell_type": "markdown",
   "metadata": {},
   "source": [
    "# Задача 9\n",
    "Какую сумму должен внести вкладчик в банк, чтобы пожизненно получать ежегодно в конце каждого года 500 при ставке 20% годовых"
   ]
  },
  {
   "cell_type": "code",
   "execution_count": 11,
   "metadata": {},
   "outputs": [
    {
     "data": {
      "text/latex": [
       "\\[\n",
       "\\begin{aligned}\n",
       "d &= \\frac{ 500 }{ 0.2 } = \\frac{ 500 }{ 0.2 } &= 2500.0\n",
       "\\end{aligned}\n",
       "\\]"
      ],
      "text/plain": [
       "<IPython.core.display.Latex object>"
      ]
     },
     "metadata": {},
     "output_type": "display_data"
    }
   ],
   "source": [
    "%%render\n",
    "d = 500 / 0.2 "
   ]
  },
  {
   "cell_type": "code",
   "execution_count": 12,
   "metadata": {},
   "outputs": [
    {
     "data": {
      "text/latex": [
       "\\[\n",
       "\\begin{aligned}\n",
       "R &= 500\\;\n",
       "\\\\[10pt]\n",
       "years &= 20\\;\n",
       "\\\\[10pt]\n",
       "percent &= \\frac{ 20 }{ 100 } = \\frac{ 20 }{ 100 } &= 0.2\n",
       "\\\\[10pt]\n",
       "A &= R \\cdot \\left( \\frac{ \\left( 1 - \\left( 1 + percent \\right) \\right) ^{ \\left( - years \\right) } }{ percent } \\right) \\\\&= 500 \\cdot \\left( \\frac{ \\left( 1 - \\left( 1 + 0.2 \\right) \\right) ^{ \\left( - 20 \\right) } }{ 0.2 } \\right) \\\\&= 2.3841857910156352e+17\\\\\n",
       "\\end{aligned}\n",
       "\\]"
      ],
      "text/plain": [
       "<IPython.core.display.Latex object>"
      ]
     },
     "metadata": {},
     "output_type": "display_data"
    }
   ],
   "source": [
    "%%render\n",
    "R = 500\n",
    "years = 20\n",
    "percent = 20 / 100\n",
    "A = R * (((1 - (1 + percent)) ** (-years)) / percent)"
   ]
  },
  {
   "cell_type": "markdown",
   "metadata": {},
   "source": [
    "# Задача 10\n",
    "Рассматривается 5-летня рента с готовыми платежами по 300 найти конечную и текущую стоимость ренты для квартальной процентной ставки в 10%"
   ]
  },
  {
   "cell_type": "code",
   "execution_count": 13,
   "metadata": {},
   "outputs": [
    {
     "data": {
      "text/latex": [
       "\\[\n",
       "\\begin{aligned}\n",
       "R &= 300\\;\n",
       "\\\\[10pt]\n",
       "years &= 5\\;\n",
       "\\\\[10pt]\n",
       "percent &= \\frac{ 10 }{ 100 } = \\frac{ 10 }{ 100 } &= 0.1\n",
       "\\\\[10pt]\n",
       "A &= R \\cdot \\left( \\frac{ \\left( 1 + percent \\right) ^{ years } }{ percent } \\right) \\cdot \\left( 1 + percent \\right) = 300 \\cdot \\left( \\frac{ \\left( 1 + 0.1 \\right) ^{ 5 } }{ 0.1 } \\right) \\cdot \\left( 1 + 0.1 \\right) &= 5314.683\n",
       "\\\\[10pt]\n",
       "P_{v} &= R \\cdot \\frac{ 1 - \\left( 0.4642 \\right) ^{ \\left( - years \\right) } }{ 0.46 } = 300 \\cdot \\frac{ 1 - \\left( 0.4642 \\right) ^{ \\left( - 5 \\right) } }{ 0.46 } &= -29605.654\n",
       "\\end{aligned}\n",
       "\\]"
      ],
      "text/plain": [
       "<IPython.core.display.Latex object>"
      ]
     },
     "metadata": {},
     "output_type": "display_data"
    }
   ],
   "source": [
    "%%render\n",
    "R = 300\n",
    "years = 5\n",
    "percent = 10 / 100\n",
    "\n",
    "A = R * (((1 + percent) ** years) / percent) * (1 + percent)\n",
    "\n",
    "P_v = R * (1 - 0.4642 ** (-years))/0.46\n",
    "\n"
   ]
  },
  {
   "cell_type": "markdown",
   "source": [
    "# Задача X"
   ],
   "metadata": {
    "collapsed": false
   }
  },
  {
   "cell_type": "markdown",
   "source": [
    "Дано:\n",
    "\n",
    "Срок погошеня 6 лет, куп. ставка = $ 10\\% $\n",
    "N = 10000\n",
    "K = 110 %\n",
    "\n",
    "Найти $ Y_{tN} $\n"
   ],
   "metadata": {
    "collapsed": false
   }
  },
  {
   "cell_type": "markdown",
   "source": [
    "$$ V = cN*\\dfrac{1-(1+p)^{-12}}{p}+N(1+p)^{-12} $$\n",
    "$$ V = 25 \\dfrac{1-(1+p)^{-24}}{p} + 1000(1+p)^{-24} $$\n",
    "$$ p_1 = 0,039 $$\n",
    "$$ p_2 = 0,009 $$\n",
    "\n",
    "$$ p_{1n}=0,039*2=0,078=7,8\\%, p_1 = 1,039^2-1 $$\n",
    "$$ p_{2n}=0,003*4=0,012=1,2\\%, p_2 = 1,003^4-1 $$\n",
    "\n",
    "$$ V_{2} = 25 \\dfrac{1-(1+p2)^{-24}}{p2} + 1000 * (1+p2)^{-24} $$\n",
    "\n",
    "$$ p_1 = S(1+ \\dfrac{r}{100})^n = 0,039 * (1 + \\dfrac{0,1}{1000})^6 $$\n"
   ],
   "metadata": {
    "collapsed": false
   }
  },
  {
   "cell_type": "markdown",
   "source": [
    "Дано:\n",
    "n = 2 года\n",
    "бескупонная облигация\n",
    "N = 1000\n",
    "V = 900\n",
    "\n",
    "Найти. ДКП. YTM\n",
    "\n",
    "$$ \\dfrac{1}{9}\\approx 11,1\\% $$\n",
    "\n",
    "$$ За 2 года 1 + 0,11111 = (1 + x)^2 $$\n",
    "$$ \\sqrt{1+0,11}=1 + x $$\n",
    "$$ x = \\sqrt{1 + 0,11} - 1 $$\n",
    "$$ x = (1 + 0,11)^{\\dfrac{1}{2}}-1 $$\n",
    "$$ 900(1 + y)^2=1000 $$\n",
    "$$ 1 + y = \\sqrt{\\dfrac{10}{9}} - 1 $$"
   ],
   "metadata": {
    "collapsed": false
   }
  },
  {
   "cell_type": "markdown",
   "source": [
    "\n",
    "Дано:\n",
    "\n",
    "N = 100 \n",
    "\n",
    "c = 7% (ежегодный)\n",
    "\n",
    "n = 3 года\n",
    "\n",
    "$ s_1 = 5\\% $\n",
    "\n",
    "$ s_2 = 6\\% $\n",
    "\n",
    "$ s_3 = 7\\% $\n",
    "\n",
    "Найти: цену облигации"
   ],
   "metadata": {
    "collapsed": false
   }
  },
  {
   "cell_type": "markdown",
   "source": [
    "$$ pV = \\dfrac{7}{(1 + p)^1} + \\dfrac{7}{(1 + p)^2} + \\dfrac{107}{(1 + p)^3} $$"
   ],
   "metadata": {
    "collapsed": false
   }
  },
  {
   "cell_type": "markdown",
   "source": [
    "$ s_2 - 3\\% $\n",
    "\n",
    "$ s_3 - 5\\% $\n",
    "\n",
    "Найти 2f3 - ?\n",
    "\n",
    "$$ 2f3 = \\dfrac{(1 + 0,05)^3}{(1 + 0,03)^2} - 1 \\approx 0,094 $$"
   ],
   "metadata": {
    "collapsed": false
   }
  },
  {
   "cell_type": "markdown",
   "source": [
    "N = 100\n",
    "\n",
    "k = 7%\n",
    "\n",
    "3 года\n",
    "\n",
    "$ s_1 - 5\\% $\n",
    "\n",
    "$ s_2 - 6\\% $\n",
    "\n",
    "$ s_3 - 7\\% $\n",
    "\n",
    "Найти \n",
    "\n",
    "p - ? Полную доходность\n",
    "\n",
    "\n",
    "$$ of1 = 0,05 $$\n",
    "$$ 1f2 = \\dfrac{(1,06)^2}{(1,05)} = 0,07 $$\n",
    "$$ 2f3 = \\dfrac{(1,07)^2}{(1,06)} = 0,094 $$\n",
    "\n",
    "$$ p_2 = \\dfrac{107}{110,094} + 7 * (1 + 0,07) + 7 = \\dfrac{107}{1,094} + 7(1,07)+ 7 = 97,8 + 7,49 + 7 = 112,29 $$\n",
    "\n",
    "$$ p_0 = 100,24 $$\n",
    "$$ 112,29 = 100,24(1 + x)^2 (1 + x) = \\sqrt{\\dfrac{112,29}{100,24}} $$\n",
    "$$ x = 1,059 * 1 \\approx 0,06 $$\n",
    "$$ x \\approx 6\\% $$"
   ],
   "metadata": {
    "collapsed": false
   }
  },
  {
   "cell_type": "markdown",
   "source": [
    "\n",
    "Дано:\n",
    "\n",
    "N = 100 \n",
    "\n",
    "c = 7% (ежегодный)\n",
    "\n",
    "n = 2 года\n",
    "\n",
    "$ s_1 = 5\\% $\n",
    "\n",
    "$ s_0 = 6\\% $\n",
    "\n",
    "$ I = 2\\% $\n",
    "\n",
    "Найти: цену облигации"
   ],
   "metadata": {
    "collapsed": false
   }
  },
  {
   "cell_type": "markdown",
   "metadata": {},
   "source": [
    "\n",
    "Дано:\n",
    "\n",
    "N = 100 \n",
    "\n",
    "c = 7% (ежегодный)\n",
    "\n",
    "n = 2 года\n",
    "\n",
    "$ s_1 = 5\\% $\n",
    "\n",
    "$ s_0 = 6\\% $\n",
    "\n",
    "$ I = 2\\% $\n",
    "\n",
    "Найти: цену облигации"
   ]
  },
  {
   "cell_type": "markdown",
   "metadata": {},
   "source": [
    "Дано:\n",
    "\n",
    "Срок погошеня 6 лет, куп. ставка = $ 10\\% $\n",
    "N = 10000\n",
    "K = 110 %\n",
    "\n",
    "Найти $ Y_{tN} $\n"
   ]
  },
  {
   "cell_type": "markdown",
   "metadata": {},
   "source": [
    "$$ V = cN*\\dfrac{1-(1+p)^{-12}}{p}+N(1+p)^{-12} $$\n",
    "$$ V = 25 \\dfrac{1-(1+p)^{-24}}{p} + 1000(1+p)^{-24} $$\n",
    "$$ p_1 = 0,039 $$\n",
    "$$ p_2 = 0,009 $$\n",
    "\n",
    "$$ p_{1n}=0,039*2=0,078=7,8\\%, p_1 = 1,039^2-1 $$\n",
    "$$ p_{2n}=0,003*4=0,012=1,2\\%, p_2 = 1,003^4-1 $$\n",
    "\n",
    "$$ V_{2} = 25 \\dfrac{1-(1+p2)^{-24}}{p2} + 1000 * (1+p2)^{-24} $$\n",
    "\n",
    "$$ p_1 = S(1+ \\dfrac{r}{100})^n = 0,039 * (1 + \\dfrac{0,1}{1000})^6 $$\n"
   ]
  },
  {
   "cell_type": "markdown",
   "metadata": {},
   "source": [
    "Дано:\n",
    "n = 2 года\n",
    "бескупонная облигация\n",
    "N = 1000\n",
    "V = 900\n",
    "\n",
    "Найти. ДКП. YTM\n",
    "\n",
    "$$ \\dfrac{1}{9}\\approx 11,1\\% $$\n",
    "\n",
    "$$ За 2 года 1 + 0,11111 = (1 + x)^2 $$\n",
    "$$ \\sqrt{1+0,11}=1 + x $$\n",
    "$$ x = \\sqrt{1 + 0,11} - 1 $$\n",
    "$$ x = (1 + 0,11)^{\\dfrac{1}{2}}-1 $$\n",
    "$$ 900(1 + y)^2=1000 $$\n",
    "$$ 1 + y = \\sqrt{\\dfrac{10}{9}} - 1 $$"
   ]
  },
  {
   "cell_type": "markdown",
   "metadata": {},
   "source": [
    "\n",
    "Дано:\n",
    "\n",
    "N = 100 \n",
    "\n",
    "c = 7% (ежегодный)\n",
    "\n",
    "n = 3 года\n",
    "\n",
    "$ s_1 = 5\\% $\n",
    "\n",
    "$ s_2 = 6\\% $\n",
    "\n",
    "$ s_3 = 7\\% $\n",
    "\n",
    "Найти: цену облигации"
   ]
  },
  {
   "cell_type": "markdown",
   "metadata": {},
   "source": [
    "$$ pV = \\dfrac{7}{(1 + p)^1} + \\dfrac{7}{(1 + p)^2} + \\dfrac{107}{(1 + p)^3} $$"
   ]
  },
  {
   "cell_type": "markdown",
   "metadata": {},
   "source": [
    "$ s_2 - 3\\% $\n",
    "\n",
    "$ s_3 - 5\\% $\n",
    "\n",
    "Найти 2f3 - ?\n",
    "\n",
    "$$ 2f3 = \\dfrac{(1 + 0,05)^3}{(1 + 0,03)^2} - 1 \\approx 0,094 $$"
   ]
  },
  {
   "cell_type": "markdown",
   "metadata": {},
   "source": [
    "N = 100\n",
    "\n",
    "k = 7%\n",
    "\n",
    "3 года\n",
    "\n",
    "$ s_1 - 5\\% $\n",
    "\n",
    "$ s_2 - 6\\% $\n",
    "\n",
    "$ s_3 - 7\\% $\n",
    "\n",
    "Найти \n",
    "\n",
    "p - ? Полную доходность\n",
    "\n",
    "\n",
    "$$ of1 = 0,05 $$\n",
    "$$ 1f2 = \\dfrac{(1,06)^2}{(1,05)} = 0,07 $$\n",
    "$$ 2f3 = \\dfrac{(1,07)^2}{(1,06)} = 0,094 $$\n",
    "\n",
    "$$ p_2 = \\dfrac{107}{110,094} + 7 * (1 + 0,07) + 7 = \\dfrac{107}{1,094} + 7(1,07)+ 7 = 97,8 + 7,49 + 7 = 112,29 $$\n",
    "\n",
    "$$ p_0 = 100,24 $$\n",
    "$$ 112,29 = 100,24(1 + x)^2 (1 + x) = \\sqrt{\\dfrac{112,29}{100,24}} $$\n",
    "$$ x = 1,059 * 1 \\approx 0,06 $$\n",
    "$$ x \\approx 6\\% $$"
   ]
  },
  {
   "cell_type": "markdown",
   "metadata": {},
   "source": [
    "\n",
    "Дано:\n",
    "\n",
    "N = 100 \n",
    "\n",
    "c = 7% (ежегодный)\n",
    "\n",
    "n = 2 года\n",
    "\n",
    "$ s_1 = 5\\% $\n",
    "\n",
    "$ s_0 = 6\\% $\n",
    "\n",
    "$ I = 2\\% $\n",
    "\n",
    "Найти: цену облигации"
   ]
  }
 ],
 "metadata": {
  "kernelspec": {
   "display_name": "Python 3",
   "language": "python",
   "name": "python3"
  },
  "language_info": {
   "codemirror_mode": {
    "name": "ipython",
    "version": 3
   },
   "file_extension": ".py",
   "mimetype": "text/x-python",
   "name": "python",
   "nbconvert_exporter": "python",
   "pygments_lexer": "ipython3",
   "version": "3.8.3"
  }
 },
 "nbformat": 4,
 "nbformat_minor": 1
}